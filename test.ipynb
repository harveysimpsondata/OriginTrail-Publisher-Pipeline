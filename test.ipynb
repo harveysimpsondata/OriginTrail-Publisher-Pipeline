{
 "cells": [
  {
   "cell_type": "code",
   "execution_count": 27,
   "outputs": [],
   "source": [
    "from dotenv import load_dotenv\n",
    "load_dotenv()\n",
    "import os\n",
    "api_key = os.getenv(\"API_KEY\")"
   ],
   "metadata": {
    "collapsed": false,
    "ExecuteTime": {
     "end_time": "2023-08-10T13:05:52.788043Z",
     "start_time": "2023-08-10T13:05:51.096134Z"
    }
   },
   "id": "37afd39d7be98c34"
  },
  {
   "cell_type": "code",
   "execution_count": 28,
   "outputs": [
    {
     "data": {
      "text/plain": "        ID                                    contract  \\\n0      613  0x5cac41237127f94c2d21dae0b14bfefa99880630   \n1      406  0x5cac41237127f94c2d21dae0b14bfefa99880630   \n2      405  0x5cac41237127f94c2d21dae0b14bfefa99880630   \n3        8  0x5cac41237127f94c2d21dae0b14bfefa99880630   \n4   561571  0x5cac41237127f94c2d21dae0b14bfefa99880630   \n5      515  0x5cac41237127f94c2d21dae0b14bfefa99880630   \n6   230362  0x5cac41237127f94c2d21dae0b14bfefa99880630   \n7       16  0x5cac41237127f94c2d21dae0b14bfefa99880630   \n8   722934  0x5cac41237127f94c2d21dae0b14bfefa99880630   \n9   722821  0x5cac41237127f94c2d21dae0b14bfefa99880630   \n10  722937  0x5cac41237127f94c2d21dae0b14bfefa99880630   \n11  722938  0x5cac41237127f94c2d21dae0b14bfefa99880630   \n12  722944  0x5cac41237127f94c2d21dae0b14bfefa99880630   \n13  722936  0x5cac41237127f94c2d21dae0b14bfefa99880630   \n14     551  0x5cac41237127f94c2d21dae0b14bfefa99880630   \n15  600683  0x5cac41237127f94c2d21dae0b14bfefa99880630   \n16     126  0x5cac41237127f94c2d21dae0b14bfefa99880630   \n17     145  0x5cac41237127f94c2d21dae0b14bfefa99880630   \n18     123  0x5cac41237127f94c2d21dae0b14bfefa99880630   \n19  246129  0x5cac41237127f94c2d21dae0b14bfefa99880630   \n20     436  0x5cac41237127f94c2d21dae0b14bfefa99880630   \n21     580  0x5cac41237127f94c2d21dae0b14bfefa99880630   \n22     611  0x5cac41237127f94c2d21dae0b14bfefa99880630   \n23  584931  0x5cac41237127f94c2d21dae0b14bfefa99880630   \n24     513  0x5cac41237127f94c2d21dae0b14bfefa99880630   \n25     423  0x5cac41237127f94c2d21dae0b14bfefa99880630   \n26     420  0x5cac41237127f94c2d21dae0b14bfefa99880630   \n27     419  0x5cac41237127f94c2d21dae0b14bfefa99880630   \n28      82  0x5cac41237127f94c2d21dae0b14bfefa99880630   \n29     556  0x5cac41237127f94c2d21dae0b14bfefa99880630   \n\n                                        holder balance  \n0   0xdc462afc421ae7730cea2884dffefa1581bf0b67   97968  \n1   0xf50a268da1c59413c4b2b3da3160df2166480b75   88687  \n2   0x8672aa6dee014779bf58b6fe6fded189eb82768a   86016  \n3   0x6fabe52365c59d099fb66c36c4009b3321217443   32038  \n4   0x704020ce26a59724c6c96aaeac16615b6c73d67c   26809  \n5   0x25ec23d1dd1aeea0e86a18b0f5df02f8f380051f   17154  \n6   0x13891d2f0120dfd4c7bb8426b496c68353d06cda   13005  \n7   0x2c92282d5aa117c40c6564bf672b7c7eb67079ed   12426  \n8   0x60f763c37981fda8cb96644e607c9611ea6133a0    9302  \n9   0xa0a6ff7ee2d71d04c20195b8a919fafff513a9d4    9293  \n10  0x278ce2da3d3f783f06fa6910a3eb48e95f467f97    9284  \n11  0xb6d8ccf61cd965946248085d365fe670f2b5f563    9261  \n12  0xec247e837b3323afc350271cdf547acd5d8f2043    8232  \n13  0x19f5e80f3985c11195a1ee4ac012dadef19bbe90    8209  \n14  0x8b68d858293e294160d6b15cfb70c22ec460f263    7712  \n15  0xe2cae458b713721cfcbd5481b7c791180e38070c     423  \n16  0x272412b0cdf74d1d91ebf560e665440d89285eaa     216  \n17  0x794d87ce11121c363b43c9ea0cce48c1a1dc0f73     168  \n18  0x7497f1ab248431283b0da06154700686a230c743     167  \n19  0xa0616d51001db6ed215eb42ed45a8c566b6eaaed      67  \n20  0x7946c8eb754e8c4efc850f29b98032c09fdd6bea      51  \n21  0xdb1e88b9133b624e09e0ff94248e85c3c6cd156f      22  \n22  0x6e2b4f73ea1a75d68024df170d2ec6f7c05ef562      17  \n23  0x6b287e6b0ea37bf12040d916ad190fb71bcf4095      16  \n24  0x4251329b9918f02fc53018592c5507b82811122c      11  \n25  0xd54b24b81ab55f54788224f919d94376491edbc4       6  \n26  0x51897a680b99b8c3d24941227f41d253700f4305       3  \n27  0x60faa3e8518f4b5f39e362715288b290858a6ce3       3  \n28  0xf6c29e231ba6d9401d434f554f0e64aeef4e8cd2       3  \n29  0xbc37de670baef9b4f148f87c1829d7a5fb45894a       1  ",
      "text/html": "<div>\n<style scoped>\n    .dataframe tbody tr th:only-of-type {\n        vertical-align: middle;\n    }\n\n    .dataframe tbody tr th {\n        vertical-align: top;\n    }\n\n    .dataframe thead th {\n        text-align: right;\n    }\n</style>\n<table border=\"1\" class=\"dataframe\">\n  <thead>\n    <tr style=\"text-align: right;\">\n      <th></th>\n      <th>ID</th>\n      <th>contract</th>\n      <th>holder</th>\n      <th>balance</th>\n    </tr>\n  </thead>\n  <tbody>\n    <tr>\n      <th>0</th>\n      <td>613</td>\n      <td>0x5cac41237127f94c2d21dae0b14bfefa99880630</td>\n      <td>0xdc462afc421ae7730cea2884dffefa1581bf0b67</td>\n      <td>97968</td>\n    </tr>\n    <tr>\n      <th>1</th>\n      <td>406</td>\n      <td>0x5cac41237127f94c2d21dae0b14bfefa99880630</td>\n      <td>0xf50a268da1c59413c4b2b3da3160df2166480b75</td>\n      <td>88687</td>\n    </tr>\n    <tr>\n      <th>2</th>\n      <td>405</td>\n      <td>0x5cac41237127f94c2d21dae0b14bfefa99880630</td>\n      <td>0x8672aa6dee014779bf58b6fe6fded189eb82768a</td>\n      <td>86016</td>\n    </tr>\n    <tr>\n      <th>3</th>\n      <td>8</td>\n      <td>0x5cac41237127f94c2d21dae0b14bfefa99880630</td>\n      <td>0x6fabe52365c59d099fb66c36c4009b3321217443</td>\n      <td>32038</td>\n    </tr>\n    <tr>\n      <th>4</th>\n      <td>561571</td>\n      <td>0x5cac41237127f94c2d21dae0b14bfefa99880630</td>\n      <td>0x704020ce26a59724c6c96aaeac16615b6c73d67c</td>\n      <td>26809</td>\n    </tr>\n    <tr>\n      <th>5</th>\n      <td>515</td>\n      <td>0x5cac41237127f94c2d21dae0b14bfefa99880630</td>\n      <td>0x25ec23d1dd1aeea0e86a18b0f5df02f8f380051f</td>\n      <td>17154</td>\n    </tr>\n    <tr>\n      <th>6</th>\n      <td>230362</td>\n      <td>0x5cac41237127f94c2d21dae0b14bfefa99880630</td>\n      <td>0x13891d2f0120dfd4c7bb8426b496c68353d06cda</td>\n      <td>13005</td>\n    </tr>\n    <tr>\n      <th>7</th>\n      <td>16</td>\n      <td>0x5cac41237127f94c2d21dae0b14bfefa99880630</td>\n      <td>0x2c92282d5aa117c40c6564bf672b7c7eb67079ed</td>\n      <td>12426</td>\n    </tr>\n    <tr>\n      <th>8</th>\n      <td>722934</td>\n      <td>0x5cac41237127f94c2d21dae0b14bfefa99880630</td>\n      <td>0x60f763c37981fda8cb96644e607c9611ea6133a0</td>\n      <td>9302</td>\n    </tr>\n    <tr>\n      <th>9</th>\n      <td>722821</td>\n      <td>0x5cac41237127f94c2d21dae0b14bfefa99880630</td>\n      <td>0xa0a6ff7ee2d71d04c20195b8a919fafff513a9d4</td>\n      <td>9293</td>\n    </tr>\n    <tr>\n      <th>10</th>\n      <td>722937</td>\n      <td>0x5cac41237127f94c2d21dae0b14bfefa99880630</td>\n      <td>0x278ce2da3d3f783f06fa6910a3eb48e95f467f97</td>\n      <td>9284</td>\n    </tr>\n    <tr>\n      <th>11</th>\n      <td>722938</td>\n      <td>0x5cac41237127f94c2d21dae0b14bfefa99880630</td>\n      <td>0xb6d8ccf61cd965946248085d365fe670f2b5f563</td>\n      <td>9261</td>\n    </tr>\n    <tr>\n      <th>12</th>\n      <td>722944</td>\n      <td>0x5cac41237127f94c2d21dae0b14bfefa99880630</td>\n      <td>0xec247e837b3323afc350271cdf547acd5d8f2043</td>\n      <td>8232</td>\n    </tr>\n    <tr>\n      <th>13</th>\n      <td>722936</td>\n      <td>0x5cac41237127f94c2d21dae0b14bfefa99880630</td>\n      <td>0x19f5e80f3985c11195a1ee4ac012dadef19bbe90</td>\n      <td>8209</td>\n    </tr>\n    <tr>\n      <th>14</th>\n      <td>551</td>\n      <td>0x5cac41237127f94c2d21dae0b14bfefa99880630</td>\n      <td>0x8b68d858293e294160d6b15cfb70c22ec460f263</td>\n      <td>7712</td>\n    </tr>\n    <tr>\n      <th>15</th>\n      <td>600683</td>\n      <td>0x5cac41237127f94c2d21dae0b14bfefa99880630</td>\n      <td>0xe2cae458b713721cfcbd5481b7c791180e38070c</td>\n      <td>423</td>\n    </tr>\n    <tr>\n      <th>16</th>\n      <td>126</td>\n      <td>0x5cac41237127f94c2d21dae0b14bfefa99880630</td>\n      <td>0x272412b0cdf74d1d91ebf560e665440d89285eaa</td>\n      <td>216</td>\n    </tr>\n    <tr>\n      <th>17</th>\n      <td>145</td>\n      <td>0x5cac41237127f94c2d21dae0b14bfefa99880630</td>\n      <td>0x794d87ce11121c363b43c9ea0cce48c1a1dc0f73</td>\n      <td>168</td>\n    </tr>\n    <tr>\n      <th>18</th>\n      <td>123</td>\n      <td>0x5cac41237127f94c2d21dae0b14bfefa99880630</td>\n      <td>0x7497f1ab248431283b0da06154700686a230c743</td>\n      <td>167</td>\n    </tr>\n    <tr>\n      <th>19</th>\n      <td>246129</td>\n      <td>0x5cac41237127f94c2d21dae0b14bfefa99880630</td>\n      <td>0xa0616d51001db6ed215eb42ed45a8c566b6eaaed</td>\n      <td>67</td>\n    </tr>\n    <tr>\n      <th>20</th>\n      <td>436</td>\n      <td>0x5cac41237127f94c2d21dae0b14bfefa99880630</td>\n      <td>0x7946c8eb754e8c4efc850f29b98032c09fdd6bea</td>\n      <td>51</td>\n    </tr>\n    <tr>\n      <th>21</th>\n      <td>580</td>\n      <td>0x5cac41237127f94c2d21dae0b14bfefa99880630</td>\n      <td>0xdb1e88b9133b624e09e0ff94248e85c3c6cd156f</td>\n      <td>22</td>\n    </tr>\n    <tr>\n      <th>22</th>\n      <td>611</td>\n      <td>0x5cac41237127f94c2d21dae0b14bfefa99880630</td>\n      <td>0x6e2b4f73ea1a75d68024df170d2ec6f7c05ef562</td>\n      <td>17</td>\n    </tr>\n    <tr>\n      <th>23</th>\n      <td>584931</td>\n      <td>0x5cac41237127f94c2d21dae0b14bfefa99880630</td>\n      <td>0x6b287e6b0ea37bf12040d916ad190fb71bcf4095</td>\n      <td>16</td>\n    </tr>\n    <tr>\n      <th>24</th>\n      <td>513</td>\n      <td>0x5cac41237127f94c2d21dae0b14bfefa99880630</td>\n      <td>0x4251329b9918f02fc53018592c5507b82811122c</td>\n      <td>11</td>\n    </tr>\n    <tr>\n      <th>25</th>\n      <td>423</td>\n      <td>0x5cac41237127f94c2d21dae0b14bfefa99880630</td>\n      <td>0xd54b24b81ab55f54788224f919d94376491edbc4</td>\n      <td>6</td>\n    </tr>\n    <tr>\n      <th>26</th>\n      <td>420</td>\n      <td>0x5cac41237127f94c2d21dae0b14bfefa99880630</td>\n      <td>0x51897a680b99b8c3d24941227f41d253700f4305</td>\n      <td>3</td>\n    </tr>\n    <tr>\n      <th>27</th>\n      <td>419</td>\n      <td>0x5cac41237127f94c2d21dae0b14bfefa99880630</td>\n      <td>0x60faa3e8518f4b5f39e362715288b290858a6ce3</td>\n      <td>3</td>\n    </tr>\n    <tr>\n      <th>28</th>\n      <td>82</td>\n      <td>0x5cac41237127f94c2d21dae0b14bfefa99880630</td>\n      <td>0xf6c29e231ba6d9401d434f554f0e64aeef4e8cd2</td>\n      <td>3</td>\n    </tr>\n    <tr>\n      <th>29</th>\n      <td>556</td>\n      <td>0x5cac41237127f94c2d21dae0b14bfefa99880630</td>\n      <td>0xbc37de670baef9b4f148f87c1829d7a5fb45894a</td>\n      <td>1</td>\n    </tr>\n  </tbody>\n</table>\n</div>"
     },
     "execution_count": 28,
     "metadata": {},
     "output_type": "execute_result"
    }
   ],
   "source": [
    "# curl -X POST 'https://crab.api.subscan.io/api/scan/evm/token/holders' \\\n",
    "#   --header 'Content-Type: application/json' \\\n",
    "#   --header 'X-API-Key: YOUR_KEY' \\\n",
    "#   --data-raw '{\n",
    "#     \"contract\": \"0x7139e2b08d58987a4327b11fec388536cc65d37a\",\n",
    "#     \"row\":10,\n",
    "#     \"page\":0\n",
    "#   }'\n",
    "\n",
    "import requests\n",
    "import pandas as pd\n",
    "url = \"https://origintrail.api.subscan.io/api/scan/evm/token/holders\"\n",
    "headers = {\n",
    "    \"Content-Type\": \"application/json\",\n",
    "    \"X-API-Key\": api_key\n",
    "}\n",
    "data = {\n",
    "    \"contract\": \"0x5cac41237127f94c2d21dae0b14bfefa99880630\",\n",
    "    \"row\":100,\n",
    "    \"page\":0\n",
    "}\n",
    "\n",
    "response = requests.post(url, headers=headers, json=data).json()\n",
    "\n",
    "# Print the response\n",
    "# print(response['data']['list'])\n",
    "\n",
    "df = pd.DataFrame(response['data']['list'])\n",
    "df"
   ],
   "metadata": {
    "collapsed": false,
    "ExecuteTime": {
     "end_time": "2023-08-10T13:05:52.840329Z",
     "start_time": "2023-08-10T13:05:51.106349Z"
    }
   },
   "id": "b3f7d390daa34041"
  },
  {
   "cell_type": "code",
   "execution_count": 29,
   "outputs": [
    {
     "data": {
      "text/plain": "['0xdc462afc421ae7730cea2884dffefa1581bf0b67',\n '0xf50a268da1c59413c4b2b3da3160df2166480b75',\n '0x8672aa6dee014779bf58b6fe6fded189eb82768a',\n '0x6fabe52365c59d099fb66c36c4009b3321217443',\n '0x704020ce26a59724c6c96aaeac16615b6c73d67c',\n '0x25ec23d1dd1aeea0e86a18b0f5df02f8f380051f',\n '0x13891d2f0120dfd4c7bb8426b496c68353d06cda',\n '0x2c92282d5aa117c40c6564bf672b7c7eb67079ed',\n '0x60f763c37981fda8cb96644e607c9611ea6133a0',\n '0xa0a6ff7ee2d71d04c20195b8a919fafff513a9d4',\n '0x278ce2da3d3f783f06fa6910a3eb48e95f467f97',\n '0xb6d8ccf61cd965946248085d365fe670f2b5f563',\n '0xec247e837b3323afc350271cdf547acd5d8f2043',\n '0x19f5e80f3985c11195a1ee4ac012dadef19bbe90',\n '0x8b68d858293e294160d6b15cfb70c22ec460f263',\n '0xe2cae458b713721cfcbd5481b7c791180e38070c',\n '0x272412b0cdf74d1d91ebf560e665440d89285eaa',\n '0x794d87ce11121c363b43c9ea0cce48c1a1dc0f73',\n '0x7497f1ab248431283b0da06154700686a230c743',\n '0xa0616d51001db6ed215eb42ed45a8c566b6eaaed',\n '0x7946c8eb754e8c4efc850f29b98032c09fdd6bea',\n '0xdb1e88b9133b624e09e0ff94248e85c3c6cd156f',\n '0x6e2b4f73ea1a75d68024df170d2ec6f7c05ef562',\n '0x6b287e6b0ea37bf12040d916ad190fb71bcf4095',\n '0x4251329b9918f02fc53018592c5507b82811122c',\n '0xd54b24b81ab55f54788224f919d94376491edbc4',\n '0x51897a680b99b8c3d24941227f41d253700f4305',\n '0x60faa3e8518f4b5f39e362715288b290858a6ce3',\n '0xf6c29e231ba6d9401d434f554f0e64aeef4e8cd2',\n '0xbc37de670baef9b4f148f87c1829d7a5fb45894a']"
     },
     "execution_count": 29,
     "metadata": {},
     "output_type": "execute_result"
    }
   ],
   "source": [
    "holder_list = df['holder'].tolist()\n",
    "holder_list"
   ],
   "metadata": {
    "collapsed": false,
    "ExecuteTime": {
     "end_time": "2023-08-10T13:05:52.840542Z",
     "start_time": "2023-08-10T13:05:51.956134Z"
    }
   },
   "id": "5a943fa753ccd7b6"
  },
  {
   "cell_type": "code",
   "execution_count": 30,
   "outputs": [
    {
     "data": {
      "text/plain": "'0xdc462afc421ae7730cea2884dffefa1581bf0b67'"
     },
     "execution_count": 30,
     "metadata": {},
     "output_type": "execute_result"
    }
   ],
   "source": [
    "test_holder_1 = holder_list[0]\n",
    "test_holder_1"
   ],
   "metadata": {
    "collapsed": false,
    "ExecuteTime": {
     "end_time": "2023-08-10T13:05:52.840634Z",
     "start_time": "2023-08-10T13:05:51.961065Z"
    }
   },
   "id": "c81307a72c9c71f3"
  },
  {
   "cell_type": "code",
   "execution_count": 31,
   "outputs": [
    {
     "data": {
      "text/plain": "                                     contract  \\\n1  0xffffffff00000000000000000000000000000001   \n2  0xffffffff00000000000000000000000000000001   \n4  0xffffffff00000000000000000000000000000001   \n6  0xffffffff00000000000000000000000000000001   \n8  0xffffffff00000000000000000000000000000001   \n\n                                                hash   create_at  \\\n1  0x8ddd1677510fe0f6969443baa4de9ce812e1626681bb...  1691672658   \n2  0xe6e69c6e39e7b355f399c5f4ee73b0f7b728906dc5dd...  1691672598   \n4  0x4f2b21af5069b31deb878b3e719f05396cbe8a3e2fe6...  1691672550   \n6  0x6dd8326fdcba929abce5f0407b9671f59390acfb0547...  1691672490   \n8  0xffa56137261572c56955a80e25fd6ace15fbd132ed59...  1691672406   \n\n                                         from  \\\n1  0xdc462afc421ae7730cea2884dffefa1581bf0b67   \n2  0xdc462afc421ae7730cea2884dffefa1581bf0b67   \n4  0xdc462afc421ae7730cea2884dffefa1581bf0b67   \n6  0xdc462afc421ae7730cea2884dffefa1581bf0b67   \n8  0xdc462afc421ae7730cea2884dffefa1581bf0b67   \n\n                                           to               value token_id  \\\n1  0x61bb5f3db740a9cb3451049c5166f319a18927eb  150000000000000000      NaN   \n2  0x61bb5f3db740a9cb3451049c5166f319a18927eb  191015625000000000      NaN   \n4  0x61bb5f3db740a9cb3451049c5166f319a18927eb  150000000000000000      NaN   \n6  0x61bb5f3db740a9cb3451049c5166f319a18927eb  150000000000000000      NaN   \n8  0x61bb5f3db740a9cb3451049c5166f319a18927eb  150000000000000000      NaN   \n\n   decimals symbol  name                                       from_display  \\\n1        18   TRAC  TRAC  {'address': '0xdc462afc421ae7730cea2884dffefa1...   \n2        18   TRAC  TRAC  {'address': '0xdc462afc421ae7730cea2884dffefa1...   \n4        18   TRAC  TRAC  {'address': '0xdc462afc421ae7730cea2884dffefa1...   \n6        18   TRAC  TRAC  {'address': '0xdc462afc421ae7730cea2884dffefa1...   \n8        18   TRAC  TRAC  {'address': '0xdc462afc421ae7730cea2884dffefa1...   \n\n                                          to_display  \n1  {'address': '0x61bb5f3db740a9cb3451049c5166f31...  \n2  {'address': '0x61bb5f3db740a9cb3451049c5166f31...  \n4  {'address': '0x61bb5f3db740a9cb3451049c5166f31...  \n6  {'address': '0x61bb5f3db740a9cb3451049c5166f31...  \n8  {'address': '0x61bb5f3db740a9cb3451049c5166f31...  ",
      "text/html": "<div>\n<style scoped>\n    .dataframe tbody tr th:only-of-type {\n        vertical-align: middle;\n    }\n\n    .dataframe tbody tr th {\n        vertical-align: top;\n    }\n\n    .dataframe thead th {\n        text-align: right;\n    }\n</style>\n<table border=\"1\" class=\"dataframe\">\n  <thead>\n    <tr style=\"text-align: right;\">\n      <th></th>\n      <th>contract</th>\n      <th>hash</th>\n      <th>create_at</th>\n      <th>from</th>\n      <th>to</th>\n      <th>value</th>\n      <th>token_id</th>\n      <th>decimals</th>\n      <th>symbol</th>\n      <th>name</th>\n      <th>from_display</th>\n      <th>to_display</th>\n    </tr>\n  </thead>\n  <tbody>\n    <tr>\n      <th>1</th>\n      <td>0xffffffff00000000000000000000000000000001</td>\n      <td>0x8ddd1677510fe0f6969443baa4de9ce812e1626681bb...</td>\n      <td>1691672658</td>\n      <td>0xdc462afc421ae7730cea2884dffefa1581bf0b67</td>\n      <td>0x61bb5f3db740a9cb3451049c5166f319a18927eb</td>\n      <td>150000000000000000</td>\n      <td>NaN</td>\n      <td>18</td>\n      <td>TRAC</td>\n      <td>TRAC</td>\n      <td>{'address': '0xdc462afc421ae7730cea2884dffefa1...</td>\n      <td>{'address': '0x61bb5f3db740a9cb3451049c5166f31...</td>\n    </tr>\n    <tr>\n      <th>2</th>\n      <td>0xffffffff00000000000000000000000000000001</td>\n      <td>0xe6e69c6e39e7b355f399c5f4ee73b0f7b728906dc5dd...</td>\n      <td>1691672598</td>\n      <td>0xdc462afc421ae7730cea2884dffefa1581bf0b67</td>\n      <td>0x61bb5f3db740a9cb3451049c5166f319a18927eb</td>\n      <td>191015625000000000</td>\n      <td>NaN</td>\n      <td>18</td>\n      <td>TRAC</td>\n      <td>TRAC</td>\n      <td>{'address': '0xdc462afc421ae7730cea2884dffefa1...</td>\n      <td>{'address': '0x61bb5f3db740a9cb3451049c5166f31...</td>\n    </tr>\n    <tr>\n      <th>4</th>\n      <td>0xffffffff00000000000000000000000000000001</td>\n      <td>0x4f2b21af5069b31deb878b3e719f05396cbe8a3e2fe6...</td>\n      <td>1691672550</td>\n      <td>0xdc462afc421ae7730cea2884dffefa1581bf0b67</td>\n      <td>0x61bb5f3db740a9cb3451049c5166f319a18927eb</td>\n      <td>150000000000000000</td>\n      <td>NaN</td>\n      <td>18</td>\n      <td>TRAC</td>\n      <td>TRAC</td>\n      <td>{'address': '0xdc462afc421ae7730cea2884dffefa1...</td>\n      <td>{'address': '0x61bb5f3db740a9cb3451049c5166f31...</td>\n    </tr>\n    <tr>\n      <th>6</th>\n      <td>0xffffffff00000000000000000000000000000001</td>\n      <td>0x6dd8326fdcba929abce5f0407b9671f59390acfb0547...</td>\n      <td>1691672490</td>\n      <td>0xdc462afc421ae7730cea2884dffefa1581bf0b67</td>\n      <td>0x61bb5f3db740a9cb3451049c5166f319a18927eb</td>\n      <td>150000000000000000</td>\n      <td>NaN</td>\n      <td>18</td>\n      <td>TRAC</td>\n      <td>TRAC</td>\n      <td>{'address': '0xdc462afc421ae7730cea2884dffefa1...</td>\n      <td>{'address': '0x61bb5f3db740a9cb3451049c5166f31...</td>\n    </tr>\n    <tr>\n      <th>8</th>\n      <td>0xffffffff00000000000000000000000000000001</td>\n      <td>0xffa56137261572c56955a80e25fd6ace15fbd132ed59...</td>\n      <td>1691672406</td>\n      <td>0xdc462afc421ae7730cea2884dffefa1581bf0b67</td>\n      <td>0x61bb5f3db740a9cb3451049c5166f319a18927eb</td>\n      <td>150000000000000000</td>\n      <td>NaN</td>\n      <td>18</td>\n      <td>TRAC</td>\n      <td>TRAC</td>\n      <td>{'address': '0xdc462afc421ae7730cea2884dffefa1...</td>\n      <td>{'address': '0x61bb5f3db740a9cb3451049c5166f31...</td>\n    </tr>\n  </tbody>\n</table>\n</div>"
     },
     "execution_count": 31,
     "metadata": {},
     "output_type": "execute_result"
    }
   ],
   "source": [
    "# curl -X POST 'https://shibuya.api.subscan.io/api/scan/evm/erc20/transfer' \\\n",
    "#   --header 'Content-Type: application/json' \\\n",
    "#   --header 'X-API-Key: YOUR_KEY' \\\n",
    "#   --data-raw '{\n",
    "#     \"address\": \"0x7139e2b08d58987a4327b11fec388536cc65d37a\",\n",
    "#     \"row\":1\n",
    "#   }'\n",
    "\n",
    "\n",
    "import requests\n",
    "import pandas as pd\n",
    "url = \"https://origintrail.api.subscan.io/api/scan/evm/erc20/transfer\"\n",
    "headers = {\n",
    "    \"Content-Type\": \"application/json\",\n",
    "    \"X-API-Key\": api_key\n",
    "}\n",
    "data = {\n",
    "    \"address\": test_holder_1,\n",
    "    \"row\":10\n",
    "}\n",
    "\n",
    "response = requests.post(url, headers=headers, json=data).json()\n",
    "\n",
    "\n",
    "\n",
    "df = pd.DataFrame(response['data']['list'])\n",
    "df = df[df['symbol'] == 'TRAC']\n",
    "df"
   ],
   "metadata": {
    "collapsed": false,
    "ExecuteTime": {
     "end_time": "2023-08-10T13:05:52.840867Z",
     "start_time": "2023-08-10T13:05:51.969070Z"
    }
   },
   "id": "754aba9ffe2813c1"
  },
  {
   "cell_type": "code",
   "execution_count": 32,
   "outputs": [
    {
     "name": "stdout",
     "output_type": "stream",
     "text": [
      "{'code': 400, 'message': 'json: cannot unmarshal string into Go struct field .contracts of type []string', 'generated_at': 1691672753}\n"
     ]
    }
   ],
   "source": [
    "# curl -X POST 'https://crab.api.subscan.io/api/scan/evm/tokens' \\\n",
    "#   --header 'Content-Type: application/json' \\\n",
    "#   --header 'X-API-Key: YOUR_KEY' \\\n",
    "#   --data-raw '{\n",
    "#     \"contracts\": [\"0x7139e2b08d58987a4327b11fec388536cc65d37a\"]\n",
    "#   }'\n",
    "\n",
    "import requests\n",
    "import pandas as pd\n",
    "url = \"https://origintrail.api.subscan.io/api/scan/evm/tokens\"\n",
    "headers = {\n",
    "    \"Content-Type\": \"application/json\",\n",
    "    \"X-API-Key\": api_key\n",
    "}\n",
    "data = {\n",
    "    \"contracts\": \"0x5cac41237127f94c2d21dae0b14bfefa99880630\",\n",
    "}\n",
    "\n",
    "response = requests.post(url, headers=headers, json=data).json()\n",
    "\n",
    "print(response)"
   ],
   "metadata": {
    "collapsed": false,
    "ExecuteTime": {
     "end_time": "2023-08-10T13:05:53.120069Z",
     "start_time": "2023-08-10T13:05:52.786286Z"
    }
   },
   "id": "ebdd0cb1d894dc2c"
  },
  {
   "cell_type": "code",
   "execution_count": 33,
   "outputs": [
    {
     "name": "stdout",
     "output_type": "stream",
     "text": [
      "{'code': 0, 'message': 'Success', 'generated_at': 1691672744, 'data': [{'address': '0x5cac41237127f94c2d21dae0b14bfefa99880630', 'deployer': '0x9e2d84734ab21e0e880313b60eb5091ec0346918', 'block_num': 1346368, 'deploy_at': 1671035208, 'verify_status': '', 'verify_time': 0, 'contract_name': '', 'method_identifiers': None, 'event_identifiers': None}]}\n"
     ]
    }
   ],
   "source": [
    "# curl -X POST 'https://crab.api.subscan.io/api/scan/evm/tokens' \\\n",
    "#   --header 'Content-Type: application/json' \\\n",
    "#   --header 'X-API-Key: YOUR_KEY' \\\n",
    "#   --data-raw '{\n",
    "#     \"contracts\": [\"0x7139e2b08d58987a4327b11fec388536cc65d37a\"]\n",
    "#   }'\n",
    "\n",
    "import requests\n",
    "import pandas as pd\n",
    "url = \"https://origintrail.api.subscan.io/api/scan/evm/contracts\"\n",
    "headers = {\n",
    "    \"Content-Type\": \"application/json\",\n",
    "    \"X-API-Key\": api_key\n",
    "}\n",
    "data = {\n",
    "    \"contracts\": [\"0x5cac41237127f94c2d21dae0b14bfefa99880630\"],\n",
    "}\n",
    "\n",
    "response = requests.post(url, headers=headers, json=data).json()\n",
    "\n",
    "print(response)"
   ],
   "metadata": {
    "collapsed": false,
    "ExecuteTime": {
     "end_time": "2023-08-10T13:05:53.474659Z",
     "start_time": "2023-08-10T13:05:53.119631Z"
    }
   },
   "id": "d3a433bd3252a726"
  },
  {
   "cell_type": "code",
   "execution_count": 38,
   "outputs": [
    {
     "name": "stdout",
     "output_type": "stream",
     "text": [
      "{'code': 0, 'message': 'Success', 'generated_at': 1691672745, 'data': {'count': 314, 'list': [{'ID': 18, 'contract': '0xffffffff00000000000000000000000000000001', 'holder': '0x79d1f07729967a8dff36f59240394396bfe47f85', 'balance': '47375641146952000000000000'}, {'ID': 58, 'contract': '0xffffffff00000000000000000000000000000001', 'holder': '0x207a5ce5bc0a36753c3436ee108221187b20103f', 'balance': '26629668640990014677243380'}, {'ID': 136, 'contract': '0xffffffff00000000000000000000000000000001', 'holder': '0x599c59081d9b673bbddafbc933b669aa84ea3ee1', 'balance': '8684710752000000000000000'}, {'ID': 42, 'contract': '0xffffffff00000000000000000000000000000001', 'holder': '0xcd0d9e92aa9bd60835a94fa418599e80f2c8aa57', 'balance': '2196443745048000000000000'}, {'ID': 141, 'contract': '0xffffffff00000000000000000000000000000001', 'holder': '0x7232af3552c83e646e4a43368ccde98c4433533f', 'balance': '1900000000000000000000000'}, {'ID': 263, 'contract': '0xffffffff00000000000000000000000000000001', 'holder': '0xb508b13981aa0cc16ea83ee519b79b5d364e3463', 'balance': '1366933000000000000000000'}, {'ID': 240, 'contract': '0xffffffff00000000000000000000000000000001', 'holder': '0xe1055cf2a080d468eeab2492f019ad693a92da00', 'balance': '1142000000000000000000000'}, {'ID': 11, 'contract': '0xffffffff00000000000000000000000000000001', 'holder': '0x61bb5f3db740a9cb3451049c5166f319a18927eb', 'balance': '644240434851504967700853'}, {'ID': 189, 'contract': '0xffffffff00000000000000000000000000000001', 'holder': '0xb07c496e9e501dc02221000a098a8232684ab824', 'balance': '599000000000000000000000'}, {'ID': 159, 'contract': '0xffffffff00000000000000000000000000000001', 'holder': '0xb2b8ac7c3e5d2726052590871e50a97b3636225c', 'balance': '500000000000000000000000'}, {'ID': 520, 'contract': '0xffffffff00000000000000000000000000000001', 'holder': '0x2c3bb215b4f8cb59dc26821842a9f919c64f743a', 'balance': '489845863000000000000000'}, {'ID': 413, 'contract': '0xffffffff00000000000000000000000000000001', 'holder': '0x2dcce287659fe73315cb202ff49717422a5a64c0', 'balance': '300000000000000000000000'}, {'ID': 485, 'contract': '0xffffffff00000000000000000000000000000001', 'holder': '0x984e58e26985a24ecf7b424281a230b26dc81dd5', 'balance': '300000000000000000000000'}, {'ID': 6, 'contract': '0xffffffff00000000000000000000000000000001', 'holder': '0x6b06fb68bff1baa72f668c2705efadb888269374', 'balance': '300000000000000000000000'}, {'ID': 397, 'contract': '0xffffffff00000000000000000000000000000001', 'holder': '0x4b5fffa39fa909d0742f4a8242b765ff3e7368bc', 'balance': '296046584000000000000000'}, {'ID': 110, 'contract': '0xffffffff00000000000000000000000000000001', 'holder': '0x3077f103bd9a7690c88767f6c073f286bd232317', 'balance': '269910000000000000000000'}, {'ID': 153, 'contract': '0xffffffff00000000000000000000000000000001', 'holder': '0xddd7e10be699aa7769bf3587f86e2a3ae2a83740', 'balance': '250000000000000000000000'}, {'ID': 395, 'contract': '0xffffffff00000000000000000000000000000001', 'holder': '0x0e6be96b9835d97caa73fdc1d018c2d1d91dd5e1', 'balance': '214458624000000000000000'}, {'ID': 286, 'contract': '0xffffffff00000000000000000000000000000001', 'holder': '0x02c39cc9dc7b63ab6fdac41f905dcd5113cf01b0', 'balance': '200000000000000000000000'}, {'ID': 508, 'contract': '0xffffffff00000000000000000000000000000001', 'holder': '0x23dc57b7f22177a410e49df1b80673c67355eb9b', 'balance': '200000000000000000000000'}, {'ID': 460, 'contract': '0xffffffff00000000000000000000000000000001', 'holder': '0xe23a6b2ec7954704422afe8c4c422803928408ba', 'balance': '200000000000000000000000'}, {'ID': 398, 'contract': '0xffffffff00000000000000000000000000000001', 'holder': '0x202d0bec720743e0d41503e19b93298b0dad6531', 'balance': '168535244000000000000000'}, {'ID': 531, 'contract': '0xffffffff00000000000000000000000000000001', 'holder': '0x7febd7091e864489c668e79eb54bcea46f64a0cd', 'balance': '150300000000000000000000'}, {'ID': 199, 'contract': '0xffffffff00000000000000000000000000000001', 'holder': '0xdaf946be7153604a5372d7df8b0fd2522ce99be8', 'balance': '150000000000000000000000'}, {'ID': 519, 'contract': '0xffffffff00000000000000000000000000000001', 'holder': '0xe3324e63cc99f05dc482d2e73b2016143b163ede', 'balance': '150000000000000000000000'}, {'ID': 251, 'contract': '0xffffffff00000000000000000000000000000001', 'holder': '0x00ff6b7d26407a46af2b631b4fa452a036d027e5', 'balance': '142810120000000000000000'}, {'ID': 415, 'contract': '0xffffffff00000000000000000000000000000001', 'holder': '0x26869b1f4739cf032df0202bb3272da7d3be5dab', 'balance': '140300079000000000000000'}, {'ID': 222, 'contract': '0xffffffff00000000000000000000000000000001', 'holder': '0x50d55e6ed4146425c52c26521ff14be90bd4d1a5', 'balance': '135660022000000000000000'}, {'ID': 157, 'contract': '0xffffffff00000000000000000000000000000001', 'holder': '0xa8a809c5b9681617da775e6e16a6eae1792afb42', 'balance': '128728425000000000000000'}, {'ID': 173, 'contract': '0xffffffff00000000000000000000000000000001', 'holder': '0x873b0d0b5de0cca15a7e7406bc573eb4e4f567ef', 'balance': '125000000000000000000000'}, {'ID': 147, 'contract': '0xffffffff00000000000000000000000000000001', 'holder': '0x861736fa0e2898d5acde086c21d4ffaf170101fc', 'balance': '125000000000000000000000'}, {'ID': 167, 'contract': '0xffffffff00000000000000000000000000000001', 'holder': '0x7ba439cb6043f603eb7fdad70f873b566690cf07', 'balance': '124990000000000000000000'}, {'ID': 488, 'contract': '0xffffffff00000000000000000000000000000001', 'holder': '0x6ccaab7d9c3ca5677d65da6fd3dadc6ec2511b09', 'balance': '117241000000000000000000'}, {'ID': 540, 'contract': '0xffffffff00000000000000000000000000000001', 'holder': '0xa27bc4fc5f30e67f8a75acb5ae8dfe9b1b3c320d', 'balance': '106000000000000000000000'}, {'ID': 100, 'contract': '0xffffffff00000000000000000000000000000001', 'holder': '0xdb3b95a0567c27a0d1fd6020550dd566a903300d', 'balance': '105156871000000000000000'}, {'ID': 37, 'contract': '0xffffffff00000000000000000000000000000001', 'holder': '0x1d763345ad3806680461f95a78d5dcac69319883', 'balance': '102819707000000000000000'}, {'ID': 238, 'contract': '0xffffffff00000000000000000000000000000001', 'holder': '0xb7356c5964aeea4777248ce02547ff256e54a4c0', 'balance': '100001840000000000000000'}, {'ID': 272, 'contract': '0xffffffff00000000000000000000000000000001', 'holder': '0x712ee4a3b10f4598e00d0f85b88d827d493d0940', 'balance': '100000307000000000000000'}, {'ID': 445, 'contract': '0xffffffff00000000000000000000000000000001', 'holder': '0x84e6c678cc7521540969d5dc7ca7e8c7a17392c0', 'balance': '100000000000000000000000'}, {'ID': 154, 'contract': '0xffffffff00000000000000000000000000000001', 'holder': '0xd2eeb8fdc358a00a618528d7e2a5083b16581a58', 'balance': '100000000000000000000000'}, {'ID': 72, 'contract': '0xffffffff00000000000000000000000000000001', 'holder': '0x61945121b825741de7da00036d7d701d02e39b07', 'balance': '90000000000000000000000'}, {'ID': 200, 'contract': '0xffffffff00000000000000000000000000000001', 'holder': '0x405bc6be2fca2e2f09448b789b1fffc3a2f48b2d', 'balance': '84745000000000000000000'}, {'ID': 588, 'contract': '0xffffffff00000000000000000000000000000001', 'holder': '0x2a29a2fd3c5997b054139d705f44bc7e60265e0a', 'balance': '80908067000000000000000'}, {'ID': 225, 'contract': '0xffffffff00000000000000000000000000000001', 'holder': '0xd84c16ba6466929ef0c564af511ce4e60b439a82', 'balance': '71529048000000000000000'}, {'ID': 143, 'contract': '0xffffffff00000000000000000000000000000001', 'holder': '0x24393a7e6b782762567d97e3800601eb7f8e80a5', 'balance': '67472284000000000000000'}, {'ID': 274, 'contract': '0xffffffff00000000000000000000000000000001', 'holder': '0x285c49da74886682ab72f8212d2905c5c2a52f14', 'balance': '65648000000000000000000'}, {'ID': 287, 'contract': '0xffffffff00000000000000000000000000000001', 'holder': '0xdc5387e655781d2c83067169e3cf395d8202f4d4', 'balance': '63061000000000000000000'}, {'ID': 239, 'contract': '0xffffffff00000000000000000000000000000001', 'holder': '0xae64dd6eecd436feec04fff81af18e18748a7d48', 'balance': '62996000000000000000000'}, {'ID': 441, 'contract': '0xffffffff00000000000000000000000000000001', 'holder': '0xec4ec7168146f261e9a57485180d0c0935507176', 'balance': '62750000000000000000000'}, {'ID': 177, 'contract': '0xffffffff00000000000000000000000000000001', 'holder': '0xc69f8ad733979fd5d4b94a0fcd2d435734d96fd7', 'balance': '60616370000000000000000'}, {'ID': 522, 'contract': '0xffffffff00000000000000000000000000000001', 'holder': '0xb43c5279e3b5322d8cbfb617be310c37870bb8cb', 'balance': '60588000000000000000000'}, {'ID': 333, 'contract': '0xffffffff00000000000000000000000000000001', 'holder': '0x7779db32a942d32c9f2aaf6ff680faa7e1e9f84f', 'balance': '59999999999999999999999'}, {'ID': 128, 'contract': '0xffffffff00000000000000000000000000000001', 'holder': '0xa84d3681260939166674043992530dc053d32911', 'balance': '57490707000000000000000'}, {'ID': 695505, 'contract': '0xffffffff00000000000000000000000000000001', 'holder': '0x65dd8857d315dd677e01f51066086d3fc5df446e', 'balance': '55481014999999999999999'}, {'ID': 106, 'contract': '0xffffffff00000000000000000000000000000001', 'holder': '0xc3bd46c54286cd0bd386eee8000ac3db0cafad01', 'balance': '55000000000000000000000'}, {'ID': 544, 'contract': '0xffffffff00000000000000000000000000000001', 'holder': '0x4bea5e7ec1b3b407acac6da91c20731fba405b30', 'balance': '53000000000000000000000'}, {'ID': 206, 'contract': '0xffffffff00000000000000000000000000000001', 'holder': '0x840d11b8cfd350c930af8e3642f576dc8a101428', 'balance': '52121457000000000000000'}, {'ID': 695782, 'contract': '0xffffffff00000000000000000000000000000001', 'holder': '0x89f357216b6248557b4d133e11263d44124aafd9', 'balance': '51177090899999999999999'}, {'ID': 497, 'contract': '0xffffffff00000000000000000000000000000001', 'holder': '0xee92c0402b937d955abec839aab42df4ced716a1', 'balance': '51000000000000000000000'}, {'ID': 562, 'contract': '0xffffffff00000000000000000000000000000001', 'holder': '0x77f949e0e0a395757bdde6510d4f4e4be168baf4', 'balance': '51000000000000000000000'}, {'ID': 470, 'contract': '0xffffffff00000000000000000000000000000001', 'holder': '0x907b7a9851d372cd301a938799c00a8b464a2419', 'balance': '51000000000000000000000'}, {'ID': 600, 'contract': '0xffffffff00000000000000000000000000000001', 'holder': '0xe2a3505aa76b481e00632346a1c235889ea8f9e6', 'balance': '50500000000000000000000'}, {'ID': 500, 'contract': '0xffffffff00000000000000000000000000000001', 'holder': '0xa8d21f6b3fbaac6de2be1b24e8bb707e0e014de5', 'balance': '50100000000000000000000'}, {'ID': 530, 'contract': '0xffffffff00000000000000000000000000000001', 'holder': '0xe554230da1379153dc3f4538b003c0c03e11c078', 'balance': '50100000000000000000000'}, {'ID': 499, 'contract': '0xffffffff00000000000000000000000000000001', 'holder': '0x478ca54d847dfdcc4970021a9c434c29c64853b0', 'balance': '50100000000000000000000'}, {'ID': 384, 'contract': '0xffffffff00000000000000000000000000000001', 'holder': '0x0a526142af3bf24d23140e36b48aecb91fb4282d', 'balance': '50050000000000000000000'}, {'ID': 385, 'contract': '0xffffffff00000000000000000000000000000001', 'holder': '0xc27859588c4d5c5f179c309c28498e80241314b2', 'balance': '50050000000000000000000'}, {'ID': 253, 'contract': '0xffffffff00000000000000000000000000000001', 'holder': '0xe4b8e22d8535a19cd554fdd515ecd33c02c8e128', 'balance': '50005559000000000000000'}, {'ID': 509, 'contract': '0xffffffff00000000000000000000000000000001', 'holder': '0x069fefd6ea464df8f03fc29a4fafddd0eaaf2601', 'balance': '50000000000000000000000'}, {'ID': 156, 'contract': '0xffffffff00000000000000000000000000000001', 'holder': '0x082db5d05c2ab1899050f1dbe4a734181efe5de9', 'balance': '50000000000000000000000'}, {'ID': 50, 'contract': '0xffffffff00000000000000000000000000000001', 'holder': '0x9215a642cf3c8b883db416a292e6c3487d84b420', 'balance': '50000000000000000000000'}, {'ID': 162, 'contract': '0xffffffff00000000000000000000000000000001', 'holder': '0xab543dffa0e9eb2f8ed3a46af9e9923fa4b168a1', 'balance': '50000000000000000000000'}, {'ID': 529, 'contract': '0xffffffff00000000000000000000000000000001', 'holder': '0x3078c02fdf27a008bfb7eeea3cd5776acc892612', 'balance': '50000000000000000000000'}, {'ID': 38, 'contract': '0xffffffff00000000000000000000000000000001', 'holder': '0xfa422440e58bd2e07c5fae072cfcc2c40995b68a', 'balance': '50000000000000000000000'}, {'ID': 457, 'contract': '0xffffffff00000000000000000000000000000001', 'holder': '0x36aa6595f9a50a5260ee377ea184333c0c639a55', 'balance': '50000000000000000000000'}, {'ID': 575, 'contract': '0xffffffff00000000000000000000000000000001', 'holder': '0x706522d3b7b784b84bcf308d989e50dd3577f5ba', 'balance': '50000000000000000000000'}, {'ID': 584, 'contract': '0xffffffff00000000000000000000000000000001', 'holder': '0x4353fb2ac5924214ef3e23aaddbca336ce254447', 'balance': '50000000000000000000000'}, {'ID': 475, 'contract': '0xffffffff00000000000000000000000000000001', 'holder': '0x47e9f57f2db536f5ee8f76a7141e1cc27d98a9b3', 'balance': '50000000000000000000000'}, {'ID': 593, 'contract': '0xffffffff00000000000000000000000000000001', 'holder': '0x8e9c666458788b984ebfc20e00794945e1e7cdad', 'balance': '50000000000000000000000'}, {'ID': 576, 'contract': '0xffffffff00000000000000000000000000000001', 'holder': '0x4acc4126eacbf3fe850c95d93e524f5b9b6253ab', 'balance': '50000000000000000000000'}, {'ID': 577, 'contract': '0xffffffff00000000000000000000000000000001', 'holder': '0x4b8d41204b52c9762f97724d9ea173dedcda1bd9', 'balance': '50000000000000000000000'}, {'ID': 602, 'contract': '0xffffffff00000000000000000000000000000001', 'holder': '0xe6b6dc9dd0c0d72cb14476193289d6575444376f', 'balance': '49999999999999999999999'}, {'ID': 392, 'contract': '0xffffffff00000000000000000000000000000001', 'holder': '0x828f961b9c4c1d3e7ac88ebb5a764dd97d02a318', 'balance': '49999000000000000000000'}, {'ID': 493, 'contract': '0xffffffff00000000000000000000000000000001', 'holder': '0x34a8ab9a37f62f982d13041af3ef519e1a17340e', 'balance': '49993790000000000000000'}, {'ID': 338, 'contract': '0xffffffff00000000000000000000000000000001', 'holder': '0x600a041fac99e0310bb293e20dbdcd1dc25e3a13', 'balance': '49990000000000000000000'}, {'ID': 503, 'contract': '0xffffffff00000000000000000000000000000001', 'holder': '0xd242bc899c282498c625ed04109a5841f3419590', 'balance': '48903670000000000000000'}, {'ID': 294401, 'contract': '0xffffffff00000000000000000000000000000001', 'holder': '0x82dbc0ec046ccd99ddb9a7b3507a0cb5bab10f88', 'balance': '48869000000000000000000'}, {'ID': 197, 'contract': '0xffffffff00000000000000000000000000000001', 'holder': '0x95dd2d48629af53c9b61a738e81f16802c1990d4', 'balance': '48000000000000000000000'}, {'ID': 504, 'contract': '0xffffffff00000000000000000000000000000001', 'holder': '0x69ec70645d69a75d21b6b3d4c40363131c1e30e6', 'balance': '44122000000000000000000'}, {'ID': 283, 'contract': '0xffffffff00000000000000000000000000000001', 'holder': '0x338be37acd2aa072b7ef1b306259ea52ff1421de', 'balance': '43600000000000000000000'}, {'ID': 609, 'contract': '0xffffffff00000000000000000000000000000001', 'holder': '0xf5d3bd875675ade56ff2b879e3fc08a85b590584', 'balance': '40000000000000000000000'}, {'ID': 275, 'contract': '0xffffffff00000000000000000000000000000001', 'holder': '0x489128016a6d049c45b0718b0307ec694aeeb590', 'balance': '40000000000000000000000'}, {'ID': 574, 'contract': '0xffffffff00000000000000000000000000000001', 'holder': '0x4105201af6659282848dd5a695c2c6120c3bb0d3', 'balance': '38115000000000000000000'}, {'ID': 452, 'contract': '0xffffffff00000000000000000000000000000001', 'holder': '0xab329745233d1b619f4007cacd0816e2a6b78e41', 'balance': '34410000000000000000000'}, {'ID': 361278, 'contract': '0xffffffff00000000000000000000000000000001', 'holder': '0x1ec2f87c79307a7885436c767eb565d245da8a3a', 'balance': '31995609000000000000000'}, {'ID': 516, 'contract': '0xffffffff00000000000000000000000000000001', 'holder': '0x283d4bcb1fb9fda381edac2337f4145c3c9828ec', 'balance': '30998609000000000000000'}, {'ID': 250, 'contract': '0xffffffff00000000000000000000000000000001', 'holder': '0x02f6b2671faddb9041283fa180eca74a5fda3dc8', 'balance': '30360000000000000000000'}, {'ID': 477, 'contract': '0xffffffff00000000000000000000000000000001', 'holder': '0x8cf6fb38cda4e3bfb2f6b6ca644746255bc7c06f', 'balance': '30050000000000000000000'}, {'ID': 486, 'contract': '0xffffffff00000000000000000000000000000001', 'holder': '0xbe84c954bbc37e3e62a7420cf395979a2b86d129', 'balance': '30000000000000000000000'}, {'ID': 396, 'contract': '0xffffffff00000000000000000000000000000001', 'holder': '0xb5617b28784cbc831b1991bf1c8532ac6f487892', 'balance': '28258430000000000000000'}]}}\n"
     ]
    }
   ],
   "source": [
    "# curl -X POST 'https://crab.api.subscan.io/api/scan/evm/token/holders' \\\n",
    "#   --header 'Content-Type: application/json' \\\n",
    "#   --header 'X-API-Key: YOUR_KEY' \\\n",
    "#   --data-raw '{\n",
    "#     \"contract\": \"0x7139e2b08d58987a4327b11fec388536cc65d37a\",\n",
    "#     \"row\":10,\n",
    "#     \"page\":0\n",
    "#   }'\n",
    "\n",
    "import requests\n",
    "import pandas as pd\n",
    "url = \"https://origintrail.api.subscan.io/api/scan/evm/token/holders\"\n",
    "headers = {\n",
    "    \"Content-Type\": \"application/json\",\n",
    "    \"X-API-Key\": api_key\n",
    "}\n",
    "data = {\n",
    "    \"contract\": \"0x5cac41237127f94c2d21dae0b14bfefa99880630\",\n",
    "    \"row\":10,\n",
    "    \"page\":0\n",
    "}\n",
    "\n",
    "response = requests.post(url, headers=headers, json=data).json()\n",
    "\n",
    "print(response)"
   ],
   "metadata": {
    "collapsed": false,
    "ExecuteTime": {
     "end_time": "2023-08-10T13:06:01.086603Z",
     "start_time": "2023-08-10T13:06:00.796805Z"
    }
   },
   "id": "321aadd1bc090a53"
  },
  {
   "cell_type": "code",
   "execution_count": 35,
   "outputs": [
    {
     "name": "stdout",
     "output_type": "stream",
     "text": [
      "{'code': 0, 'message': 'Success', 'generated_at': 1691672746, 'data': {'count': 0, 'list': None}}\n"
     ]
    }
   ],
   "source": [
    "# curl -X POST 'https://crab.api.subscan.io/api/scan/evm/erc721/collectibles' \\\n",
    "#   --header 'Content-Type: application/json' \\\n",
    "#   --header 'X-API-Key: YOUR_KEY' \\\n",
    "#   --data-raw '{\n",
    "#     \"contract\": \"0x735182c782cb8e7806f8903de7913e6880cbf82e\",\n",
    "#     \"row\":10,\n",
    "#     \"page\":0\n",
    "#   }'\n",
    "\n",
    "import requests\n",
    "import pandas as pd\n",
    "url = \"https://origintrail.api.subscan.io/api/scan/evm/erc721/collectibles\"\n",
    "headers = {\n",
    "    \"Content-Type\": \"application/json\",\n",
    "    \"X-API-Key\": api_key\n",
    "}\n",
    "data = {\n",
    "    \"contract\": \"0x5cac41237127f94c2d21dae0b14bfefa99880630\",\n",
    "    \"row\":100,\n",
    "    \"page\":0\n",
    "}\n",
    "\n",
    "response = requests.post(url, headers=headers, json=data).json()\n",
    "\n",
    "print(response)"
   ],
   "metadata": {
    "collapsed": false,
    "ExecuteTime": {
     "end_time": "2023-08-10T13:05:54.192946Z",
     "start_time": "2023-08-10T13:05:53.839812Z"
    }
   },
   "id": "b60ffd6f45a670b9"
  },
  {
   "cell_type": "code",
   "execution_count": 36,
   "outputs": [
    {
     "name": "stdout",
     "output_type": "stream",
     "text": [
      "{'code': 400, 'message': \"Key: 'row' Error:Field validation for 'row' failed on the 'min' tag\", 'generated_at': 1691672754}\n"
     ]
    }
   ],
   "source": [
    "# curl -X POST 'https://crab.api.subscan.io/api/scan/evm/erc721/collectible' \\\n",
    "#   --header 'Content-Type: application/json' \\\n",
    "#   --header 'X-API-Key: YOUR_KEY' \\\n",
    "#   --data-raw '{\n",
    "#     \"contract\": \"0xb29da7c1b1514ab342afbe6ab915252ad3f87e4d\",\n",
    "#     \"token_id\":\"19002440208967408626316923705014494878449749569831862348137923003784877835818\"\n",
    "#   }'\n",
    "\n",
    "import requests\n",
    "import pandas as pd\n",
    "url = \"https://origintrail.api.subscan.io/api/scan/evm/erc721/collectibles\"\n",
    "headers = {\n",
    "    \"Content-Type\": \"application/json\",\n",
    "    \"X-API-Key\": api_key\n",
    "}\n",
    "data = {\n",
    "    \"contract\": \"0x5cac41237127f94c2d21dae0b14bfefa99880630\",\n",
    "    \"token_id\":\"0xFfFFFFff00000000000000000000000000000001\"\n",
    "}\n",
    "\n",
    "response = requests.post(url, headers=headers, json=data).json()\n",
    "\n",
    "print(response)"
   ],
   "metadata": {
    "collapsed": false,
    "ExecuteTime": {
     "end_time": "2023-08-10T13:05:54.529124Z",
     "start_time": "2023-08-10T13:05:54.197890Z"
    }
   },
   "id": "4ea833078e279ba4"
  },
  {
   "cell_type": "code",
   "execution_count": 40,
   "outputs": [
    {
     "name": "stdout",
     "output_type": "stream",
     "text": [
      "{'code': 400, 'message': 'json: cannot unmarshal string into Go struct field .contracts of type []string', 'generated_at': 1691672777}\n"
     ]
    }
   ],
   "source": [],
   "metadata": {
    "collapsed": false,
    "ExecuteTime": {
     "end_time": "2023-08-10T13:06:17.730225Z",
     "start_time": "2023-08-10T13:06:17.358360Z"
    }
   },
   "id": "cf260874f6a28c2a"
  }
 ],
 "metadata": {
  "kernelspec": {
   "name": "conda-root-py",
   "language": "python",
   "display_name": "Python [conda env:root] *"
  },
  "language_info": {
   "codemirror_mode": {
    "name": "ipython",
    "version": 2
   },
   "file_extension": ".py",
   "mimetype": "text/x-python",
   "name": "python",
   "nbconvert_exporter": "python",
   "pygments_lexer": "ipython2",
   "version": "2.7.6"
  }
 },
 "nbformat": 4,
 "nbformat_minor": 5
}
