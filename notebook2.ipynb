{
 "cells": [
  {
   "cell_type": "code",
   "execution_count": 36,
   "id": "initial_id",
   "metadata": {
    "collapsed": true,
    "ExecuteTime": {
     "end_time": "2023-08-25T21:20:45.362102Z",
     "start_time": "2023-08-25T21:20:43.071335Z"
    }
   },
   "outputs": [
    {
     "name": "stdout",
     "output_type": "stream",
     "text": [
      "Latest Block: 3120320\n",
      "3120319 3120320\n",
      "Total execution time: 2.28 seconds\n"
     ]
    }
   ],
   "source": [
    "# Standard library\n",
    "import time\n",
    "import os\n",
    "import datetime\n",
    "from concurrent.futures import ThreadPoolExecutor\n",
    "import json\n",
    "from web3 import Web3\n",
    "\n",
    "# Third-party libraries\n",
    "import pandas as pd\n",
    "import requests\n",
    "import psycopg2\n",
    "from dotenv import load_dotenv\n",
    "\n",
    "import duckdb\n",
    "\n",
    "start_time = time.time()\n",
    "\n",
    "load_dotenv()\n",
    "subscan_key = os.getenv(\"subscan_key\")\n",
    "motherDuck_token = os.getenv(\"motherDuck_token\")\n",
    "onfinality_key = os.getenv(\"onfinality_key\")\n",
    "subscan_key = os.getenv(\"subscan_key\")\n",
    "MAX_WORKERS = 3  # adjust this based on your system's capabilities\n",
    "\n",
    "# with duckdb.connect(f'md:origintrail?motherduck_token={motherDuck_token}&saas_mode=true') as conn:\n",
    "#     try:\n",
    "#\n",
    "#         pass\n",
    "#         # conn.execute(upsert_statement)\n",
    "#         # print(f\"Inserted {len(postgres_data)} rows.\")\n",
    "#     except Exception as e:\n",
    "#         pass\n",
    "#         # print(f\"Error upserting data: {e}\")\n",
    "\n",
    "\n",
    "# Connect to the Ethereum node using Websockets\n",
    "w3 = Web3(Web3.HTTPProvider(f'https://origintrail.api.onfinality.io/rpc?apikey={onfinality_key}'))\n",
    "\n",
    "print(\"Latest Block:\", w3.eth.block_number)\n",
    "latest_block = w3.eth.block_number\n",
    "last_block = (w3.eth.block_number) - 1\n",
    "\n",
    "print(last_block, latest_block)\n",
    "# Load ABI from json file\n",
    "with open('data/ServiceAgreementV1.json', 'r') as file:\n",
    "    serviceAgreementABI = json.load(file)\n",
    "\n",
    "# Contract address and initialization\n",
    "contract_address = '0xB20F6F3B9176D4B284bA26b80833ff5bFe6db28F'\n",
    "contract = w3.eth.contract(address=contract_address, abi=serviceAgreementABI)\n",
    "\n",
    "\n",
    "# Fetch past ServiceAgreementV1Created events\n",
    "events_list = contract.events.ServiceAgreementV1Created.get_logs(fromBlock=last_block, toBlock=last_block)\n",
    "\n",
    "dicts_list = [dict(event) for event in events_list]\n",
    "\n",
    "# Flatten the 'args' dictionary and process HexBytes objects\n",
    "processed_data = []\n",
    "for item in dicts_list:\n",
    "    flattened = {**item['args'], **item}  # Merge dictionaries\n",
    "    flattened.pop('args')  # Remove the 'args' key\n",
    "\n",
    "    # Convert HexBytes to hexadecimal string representation\n",
    "    flattened['blockHash'] = flattened['blockHash'].hex()\n",
    "    flattened['transactionHash'] = flattened['transactionHash'].hex()\n",
    "\n",
    "    processed_data.append(flattened)\n",
    "\n",
    "# Create DataFrame\n",
    "df_assets = (pd.DataFrame(processed_data)\n",
    "      .assign(tokenAmount=lambda x: x['tokenAmount'].astype(float) / 1e18,\n",
    "              epochLength=lambda x: x['epochLength'].astype(float) / 86400,\n",
    "              startTime=lambda x: pd.to_datetime(x['startTime'].apply(lambda y: datetime.datetime.utcfromtimestamp(y).isoformat())))\n",
    "      .drop(columns=['keyword', 'hashFunctionId', 'logIndex', 'transactionIndex'])\n",
    "      .rename(columns={\"assetContract\":\"asset_contract\", \"startTime\": \"TIME_ASSET_CREATED\", \"epochsNumber\":\"EPOCHS_NUMBER\",\"epochLength\":\"EPOCH_LENGTH-(DAYS)\",\"tokenAmount\": \"TRAC_PRICE\", \"event\":\"EVENT\",\"tokenId\": \"ASSET_ID\", \"assetContract\":\"ASSET_CONTRACT\", \"transactionHash\":\"TRANSACTION_HASH\", \"blockHash\":\"BLOCK_HASH\", \"blockNumber\":\"BLOCK_NUMBER\", \"address\":\"EVENT_CONTRACT_ADDRESS\"}, errors=\"raise\"))\n",
    "\n",
    "\n",
    "\n",
    "# Get all transaction hashes\n",
    "hashes = df_assets['TRANSACTION_HASH'].tolist()\n",
    "\n",
    "hash_list = []\n",
    "\n",
    "# Get all transaction hashes\n",
    "for hash in hashes:\n",
    "    url = \"https://origintrail.api.subscan.io/api/scan/evm/transaction\"\n",
    "    headers = {\n",
    "        \"Content-Type\": \"application/json\",\n",
    "        \"X-API-Key\": subscan_key\n",
    "    }\n",
    "    data = {\n",
    "        \"hash\": hash\n",
    "    }\n",
    "\n",
    "    response = requests.post(url, headers=headers, json=data).json()\n",
    "\n",
    "    if response.get(\"code\") == 0:  # only proceed if the response code indicates success\n",
    "        data = response[\"data\"]\n",
    "        row = {\n",
    "            \"message\": response[\"message\"],\n",
    "            \"generated_at\": response[\"generated_at\"],\n",
    "            \"hash\": data[\"hash\"],\n",
    "            \"from\": data[\"from\"],\n",
    "            \"to\": data[\"to\"][\"address\"]\n",
    "        }\n",
    "        hash_list.append(row)\n",
    "\n",
    "df_hash = ((pd.DataFrame(hash_list)\n",
    "           .assign(generated_at=lambda x: pd.to_datetime(x['generated_at'].apply(lambda y: datetime.datetime.utcfromtimestamp(y).isoformat()))))\n",
    "           .rename(columns={\"message\":\"MESSAGE\",\"generated_at\":\"TIME_OF_TRANSACTION\",\"hash\":\"TRANSACTION_HASH\",\"from\":\"PUBLISHER_ADDRESS\", \"to\":\"SENT_ADDRESS\"}, errors=\"raise\"))\n",
    "\n",
    "df = pd.merge(df_assets, df_hash, on='TRANSACTION_HASH', how='left')\n",
    "\n",
    "df = df[['MESSAGE', 'ASSET_ID', 'BLOCK_NUMBER', 'TIME_ASSET_CREATED', 'TIME_OF_TRANSACTION', 'TRAC_PRICE', 'EPOCHS_NUMBER', 'EPOCH_LENGTH-(DAYS)','PUBLISHER_ADDRESS', 'SENT_ADDRESS', 'TRANSACTION_HASH', 'BLOCK_HASH']]\n",
    "\n",
    "\n",
    "\n",
    "end_time = time.time()\n",
    "elapsed_time = end_time - start_time\n",
    "print(f\"Total execution time: {elapsed_time:.2f} seconds\")\n",
    "\n",
    "\n",
    "\n"
   ]
  },
  {
   "cell_type": "code",
   "execution_count": 37,
   "outputs": [
    {
     "data": {
      "text/plain": "   MESSAGE  ASSET_ID  BLOCK_NUMBER  TIME_ASSET_CREATED TIME_OF_TRANSACTION  \\\n0  Success    561261       3120319 2023-08-25 21:20:18 2023-08-25 21:20:45   \n\n   TRAC_PRICE  EPOCHS_NUMBER  EPOCH_LENGTH  \\\n0     0.02124              5       7776000   \n\n                            PUBLISHER_ADDRESS  \\\n0  0xa0a6ff7ee2d71d04c20195b8a919fafff513a9d4   \n\n                                 SENT_ADDRESS  \\\n0  0xb20016d23c77612334bd2885636980937da60b59   \n\n                                    TRANSACTION_HASH  \\\n0  0x9ad586a86c548cff1de35f6e9daef09f2b44ff3a31bb...   \n\n                                          BLOCK_HASH  \n0  0x86b72a67f9532e3f0ab7ebb691b26b2c3a6b31a1480d...  ",
      "text/html": "<div>\n<style scoped>\n    .dataframe tbody tr th:only-of-type {\n        vertical-align: middle;\n    }\n\n    .dataframe tbody tr th {\n        vertical-align: top;\n    }\n\n    .dataframe thead th {\n        text-align: right;\n    }\n</style>\n<table border=\"1\" class=\"dataframe\">\n  <thead>\n    <tr style=\"text-align: right;\">\n      <th></th>\n      <th>MESSAGE</th>\n      <th>ASSET_ID</th>\n      <th>BLOCK_NUMBER</th>\n      <th>TIME_ASSET_CREATED</th>\n      <th>TIME_OF_TRANSACTION</th>\n      <th>TRAC_PRICE</th>\n      <th>EPOCHS_NUMBER</th>\n      <th>EPOCH_LENGTH</th>\n      <th>PUBLISHER_ADDRESS</th>\n      <th>SENT_ADDRESS</th>\n      <th>TRANSACTION_HASH</th>\n      <th>BLOCK_HASH</th>\n    </tr>\n  </thead>\n  <tbody>\n    <tr>\n      <th>0</th>\n      <td>Success</td>\n      <td>561261</td>\n      <td>3120319</td>\n      <td>2023-08-25 21:20:18</td>\n      <td>2023-08-25 21:20:45</td>\n      <td>0.02124</td>\n      <td>5</td>\n      <td>7776000</td>\n      <td>0xa0a6ff7ee2d71d04c20195b8a919fafff513a9d4</td>\n      <td>0xb20016d23c77612334bd2885636980937da60b59</td>\n      <td>0x9ad586a86c548cff1de35f6e9daef09f2b44ff3a31bb...</td>\n      <td>0x86b72a67f9532e3f0ab7ebb691b26b2c3a6b31a1480d...</td>\n    </tr>\n  </tbody>\n</table>\n</div>"
     },
     "execution_count": 37,
     "metadata": {},
     "output_type": "execute_result"
    }
   ],
   "source": [
    "df"
   ],
   "metadata": {
    "collapsed": false,
    "ExecuteTime": {
     "end_time": "2023-08-25T21:20:53.629125Z",
     "start_time": "2023-08-25T21:20:53.622727Z"
    }
   },
   "id": "b7e72040e064dd3"
  },
  {
   "cell_type": "code",
   "execution_count": 38,
   "outputs": [
    {
     "data": {
      "text/plain": "   MESSAGE TIME_OF_TRANSACTION  \\\n0  Success 2023-08-25 21:20:45   \n\n                                    TRANSACTION_HASH  \\\n0  0x9ad586a86c548cff1de35f6e9daef09f2b44ff3a31bb...   \n\n                            PUBLISHER_ADDRESS  \\\n0  0xa0a6ff7ee2d71d04c20195b8a919fafff513a9d4   \n\n                                 SENT_ADDRESS  \n0  0xb20016d23c77612334bd2885636980937da60b59  ",
      "text/html": "<div>\n<style scoped>\n    .dataframe tbody tr th:only-of-type {\n        vertical-align: middle;\n    }\n\n    .dataframe tbody tr th {\n        vertical-align: top;\n    }\n\n    .dataframe thead th {\n        text-align: right;\n    }\n</style>\n<table border=\"1\" class=\"dataframe\">\n  <thead>\n    <tr style=\"text-align: right;\">\n      <th></th>\n      <th>MESSAGE</th>\n      <th>TIME_OF_TRANSACTION</th>\n      <th>TRANSACTION_HASH</th>\n      <th>PUBLISHER_ADDRESS</th>\n      <th>SENT_ADDRESS</th>\n    </tr>\n  </thead>\n  <tbody>\n    <tr>\n      <th>0</th>\n      <td>Success</td>\n      <td>2023-08-25 21:20:45</td>\n      <td>0x9ad586a86c548cff1de35f6e9daef09f2b44ff3a31bb...</td>\n      <td>0xa0a6ff7ee2d71d04c20195b8a919fafff513a9d4</td>\n      <td>0xb20016d23c77612334bd2885636980937da60b59</td>\n    </tr>\n  </tbody>\n</table>\n</div>"
     },
     "execution_count": 38,
     "metadata": {},
     "output_type": "execute_result"
    }
   ],
   "source": [
    "df_hash"
   ],
   "metadata": {
    "collapsed": false,
    "ExecuteTime": {
     "end_time": "2023-08-25T21:20:54.934978Z",
     "start_time": "2023-08-25T21:20:54.928803Z"
    }
   },
   "id": "8cb1f80e4e534213"
  },
  {
   "cell_type": "code",
   "execution_count": 39,
   "outputs": [
    {
     "data": {
      "text/plain": "                               ASSET_CONTRACT  ASSET_ID  TIME_ASSET_CREATED  \\\n0  0x5cAC41237127F94c2D21dAe0b14bFeFa99880630    561261 2023-08-25 21:20:18   \n\n   EPOCHS_NUMBER  EPOCH_LENGTH  TRAC_PRICE                      EVENT  \\\n0              5       7776000     0.02124  ServiceAgreementV1Created   \n\n                                    TRANSACTION_HASH  \\\n0  0x9ad586a86c548cff1de35f6e9daef09f2b44ff3a31bb...   \n\n                       EVENT_CONTRACT_ADDRESS  \\\n0  0xB20F6F3B9176D4B284bA26b80833ff5bFe6db28F   \n\n                                          BLOCK_HASH  BLOCK_NUMBER  \n0  0x86b72a67f9532e3f0ab7ebb691b26b2c3a6b31a1480d...       3120319  ",
      "text/html": "<div>\n<style scoped>\n    .dataframe tbody tr th:only-of-type {\n        vertical-align: middle;\n    }\n\n    .dataframe tbody tr th {\n        vertical-align: top;\n    }\n\n    .dataframe thead th {\n        text-align: right;\n    }\n</style>\n<table border=\"1\" class=\"dataframe\">\n  <thead>\n    <tr style=\"text-align: right;\">\n      <th></th>\n      <th>ASSET_CONTRACT</th>\n      <th>ASSET_ID</th>\n      <th>TIME_ASSET_CREATED</th>\n      <th>EPOCHS_NUMBER</th>\n      <th>EPOCH_LENGTH</th>\n      <th>TRAC_PRICE</th>\n      <th>EVENT</th>\n      <th>TRANSACTION_HASH</th>\n      <th>EVENT_CONTRACT_ADDRESS</th>\n      <th>BLOCK_HASH</th>\n      <th>BLOCK_NUMBER</th>\n    </tr>\n  </thead>\n  <tbody>\n    <tr>\n      <th>0</th>\n      <td>0x5cAC41237127F94c2D21dAe0b14bFeFa99880630</td>\n      <td>561261</td>\n      <td>2023-08-25 21:20:18</td>\n      <td>5</td>\n      <td>7776000</td>\n      <td>0.02124</td>\n      <td>ServiceAgreementV1Created</td>\n      <td>0x9ad586a86c548cff1de35f6e9daef09f2b44ff3a31bb...</td>\n      <td>0xB20F6F3B9176D4B284bA26b80833ff5bFe6db28F</td>\n      <td>0x86b72a67f9532e3f0ab7ebb691b26b2c3a6b31a1480d...</td>\n      <td>3120319</td>\n    </tr>\n  </tbody>\n</table>\n</div>"
     },
     "execution_count": 39,
     "metadata": {},
     "output_type": "execute_result"
    }
   ],
   "source": [
    "df_assets"
   ],
   "metadata": {
    "collapsed": false,
    "ExecuteTime": {
     "end_time": "2023-08-25T21:20:56.359629Z",
     "start_time": "2023-08-25T21:20:56.349275Z"
    }
   },
   "id": "d2be82c8b3e728c7"
  },
  {
   "cell_type": "code",
   "execution_count": null,
   "outputs": [],
   "source": [],
   "metadata": {
    "collapsed": false
   },
   "id": "c3cd3b9156bae99d"
  }
 ],
 "metadata": {
  "kernelspec": {
   "display_name": "Python 3",
   "language": "python",
   "name": "python3"
  },
  "language_info": {
   "codemirror_mode": {
    "name": "ipython",
    "version": 2
   },
   "file_extension": ".py",
   "mimetype": "text/x-python",
   "name": "python",
   "nbconvert_exporter": "python",
   "pygments_lexer": "ipython2",
   "version": "2.7.6"
  }
 },
 "nbformat": 4,
 "nbformat_minor": 5
}
