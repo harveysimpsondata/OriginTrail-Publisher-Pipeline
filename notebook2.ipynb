{
 "cells": [
  {
   "cell_type": "code",
   "execution_count": 8,
   "id": "initial_id",
   "metadata": {
    "collapsed": true,
    "ExecuteTime": {
     "end_time": "2023-08-24T18:32:39.292856Z",
     "start_time": "2023-08-24T18:32:38.485282Z"
    }
   },
   "outputs": [
    {
     "name": "stdout",
     "output_type": "stream",
     "text": [
      "Latest Block: 3112365\n",
      "3112365 3112355\n"
     ]
    }
   ],
   "source": [
    "from web3 import Web3\n",
    "import json\n",
    "import pandas as pd\n",
    "import json\n",
    "\n",
    "# Load ABI from json file\n",
    "with open('data/ServiceAgreementV1.json', 'r') as file:\n",
    "    serviceAgreementABI = json.load(file)\n",
    "\n",
    "#wss://mainnet.infura.io/ws/v3/c9bcbef6af454e74a095858b406bc0f2\n",
    "\n",
    "# Connect to the Ethereum node using Websockets\n",
    "w3 = Web3(Web3.HTTPProvider('https://origintrail.api.onfinality.io/rpc?apikey=e9230009-7799-4fc3-bc87-3f9243d4686a'))\n",
    "#w5 = Web3(Web3.WebsocketProvider('wss://origintrail.api.onfinality.io/ws?apikey=e9230009-7799-4fc3-bc87-3f9243d4686a'))\n",
    "\n",
    "\n",
    "print(\"Latest Block:\", w3.eth.block_number)\n",
    "latest = w3.eth.block_number\n",
    "last = (w3.eth.block_number)-10\n",
    "\n",
    "print(latest, last)\n",
    "\n",
    "# Contract address and initialization\n",
    "contract_address = '0xB20F6F3B9176D4B284bA26b80833ff5bFe6db28F'\n",
    "contract = w3.eth.contract(address=contract_address, abi=serviceAgreementABI)\n",
    "\n",
    "# Fetch past ServiceAgreementV1Created events\n",
    "from_block = 0  # for instance, from block 0\n",
    "to_block = 'latest'\n",
    "\n",
    "events_list = contract.events.ServiceAgreementV1Created.get_logs(fromBlock=last, toBlock=latest)\n",
    "\n",
    "dicts_list = [dict(event) for event in events_list]\n",
    "\n",
    "# Flatten the 'args' dictionary and process HexBytes objects\n",
    "processed_data = []\n",
    "for item in dicts_list:\n",
    "    flattened = {**item['args'], **item}  # Merge dictionaries\n",
    "    flattened.pop('args')  # Remove the 'args' key\n",
    "    \n",
    "    # Convert HexBytes to hexadecimal string representation\n",
    "    flattened['blockHash'] = flattened['blockHash'].hex()\n",
    "    flattened['transactionHash'] = flattened['transactionHash'].hex()\n",
    "    \n",
    "    processed_data.append(flattened)\n",
    "\n",
    "# Create DataFrame\n",
    "df = pd.DataFrame(processed_data)\n"
   ]
  },
  {
   "cell_type": "code",
   "execution_count": 9,
   "outputs": [
    {
     "data": {
      "text/plain": "                                 assetContract  tokenId  \\\n0   0x5cAC41237127F94c2D21dAe0b14bFeFa99880630   550298   \n1   0x5cAC41237127F94c2D21dAe0b14bFeFa99880630   550299   \n2   0x5cAC41237127F94c2D21dAe0b14bFeFa99880630   550300   \n3   0x5cAC41237127F94c2D21dAe0b14bFeFa99880630   550301   \n4   0x5cAC41237127F94c2D21dAe0b14bFeFa99880630   550302   \n5   0x5cAC41237127F94c2D21dAe0b14bFeFa99880630   550303   \n6   0x5cAC41237127F94c2D21dAe0b14bFeFa99880630   550304   \n7   0x5cAC41237127F94c2D21dAe0b14bFeFa99880630   550305   \n8   0x5cAC41237127F94c2D21dAe0b14bFeFa99880630   550306   \n9   0x5cAC41237127F94c2D21dAe0b14bFeFa99880630   550307   \n10  0x5cAC41237127F94c2D21dAe0b14bFeFa99880630   550308   \n11  0x5cAC41237127F94c2D21dAe0b14bFeFa99880630   550309   \n12  0x5cAC41237127F94c2D21dAe0b14bFeFa99880630   550310   \n13  0x5cAC41237127F94c2D21dAe0b14bFeFa99880630   550311   \n14  0x5cAC41237127F94c2D21dAe0b14bFeFa99880630   550312   \n15  0x5cAC41237127F94c2D21dAe0b14bFeFa99880630   550313   \n16  0x5cAC41237127F94c2D21dAe0b14bFeFa99880630   550314   \n17  0x5cAC41237127F94c2D21dAe0b14bFeFa99880630   550315   \n18  0x5cAC41237127F94c2D21dAe0b14bFeFa99880630   550316   \n\n                                              keyword  hashFunctionId  \\\n0   b\"\\\\\\xacA#q'\\xf9L-!\\xda\\xe0\\xb1K\\xfe\\xfa\\x99\\x...               1   \n1   b\"\\\\\\xacA#q'\\xf9L-!\\xda\\xe0\\xb1K\\xfe\\xfa\\x99\\x...               1   \n2   b\"\\\\\\xacA#q'\\xf9L-!\\xda\\xe0\\xb1K\\xfe\\xfa\\x99\\x...               1   \n3   b\"\\\\\\xacA#q'\\xf9L-!\\xda\\xe0\\xb1K\\xfe\\xfa\\x99\\x...               1   \n4   b\"\\\\\\xacA#q'\\xf9L-!\\xda\\xe0\\xb1K\\xfe\\xfa\\x99\\x...               1   \n5   b\"\\\\\\xacA#q'\\xf9L-!\\xda\\xe0\\xb1K\\xfe\\xfa\\x99\\x...               1   \n6   b\"\\\\\\xacA#q'\\xf9L-!\\xda\\xe0\\xb1K\\xfe\\xfa\\x99\\x...               1   \n7   b\"\\\\\\xacA#q'\\xf9L-!\\xda\\xe0\\xb1K\\xfe\\xfa\\x99\\x...               1   \n8   b\"\\\\\\xacA#q'\\xf9L-!\\xda\\xe0\\xb1K\\xfe\\xfa\\x99\\x...               1   \n9   b\"\\\\\\xacA#q'\\xf9L-!\\xda\\xe0\\xb1K\\xfe\\xfa\\x99\\x...               1   \n10  b\"\\\\\\xacA#q'\\xf9L-!\\xda\\xe0\\xb1K\\xfe\\xfa\\x99\\x...               1   \n11  b\"\\\\\\xacA#q'\\xf9L-!\\xda\\xe0\\xb1K\\xfe\\xfa\\x99\\x...               1   \n12  b'\\\\\\xacA#q\\'\\xf9L-!\\xda\\xe0\\xb1K\\xfe\\xfa\\x99\\...               1   \n13  b\"\\\\\\xacA#q'\\xf9L-!\\xda\\xe0\\xb1K\\xfe\\xfa\\x99\\x...               1   \n14  b\"\\\\\\xacA#q'\\xf9L-!\\xda\\xe0\\xb1K\\xfe\\xfa\\x99\\x...               1   \n15  b\"\\\\\\xacA#q'\\xf9L-!\\xda\\xe0\\xb1K\\xfe\\xfa\\x99\\x...               1   \n16  b\"\\\\\\xacA#q'\\xf9L-!\\xda\\xe0\\xb1K\\xfe\\xfa\\x99\\x...               1   \n17  b\"\\\\\\xacA#q'\\xf9L-!\\xda\\xe0\\xb1K\\xfe\\xfa\\x99\\x...               1   \n18  b\"\\\\\\xacA#q'\\xf9L-!\\xda\\xe0\\xb1K\\xfe\\xfa\\x99\\x...               1   \n\n     startTime  epochsNumber  epochLength         tokenAmount  \\\n0   1692901818             5      7776000  571582031250000000   \n1   1692901830             5      7776000  532177734375000000   \n2   1692901830             5      7776000   21240234375000000   \n3   1692901830             5      7776000  408691406250000000   \n4   1692901842             5      7776000   21240234375000000   \n5   1692901842             5      7776000   88037109375000000   \n6   1692901854             5      7776000  496875000000000000   \n7   1692901866             5      7776000  579638671875000000   \n8   1692901890             5      7776000  408691406250000000   \n9   1692901890             5      7776000  569970703125000000   \n10  1692901890             5      7776000   21240234375000000   \n11  1692901890             5      7776000  482373046875000000   \n12  1692901902             5      7776000   21240234375000000   \n13  1692901914             5      7776000   21240234375000000   \n14  1692901914             5      7776000   21240234375000000   \n15  1692901926             5      7776000  105175781250000000   \n16  1692901926             5      7776000  557812500000000000   \n17  1692901938             5      7776000  510351562500000000   \n18  1692901938             5      7776000   21240234375000000   \n\n                        event  logIndex  transactionIndex  \\\n0   ServiceAgreementV1Created        13                 4   \n1   ServiceAgreementV1Created         9                 3   \n2   ServiceAgreementV1Created        14                 4   \n3   ServiceAgreementV1Created        19                 5   \n4   ServiceAgreementV1Created        11                 9   \n5   ServiceAgreementV1Created        16                10   \n6   ServiceAgreementV1Created        20                15   \n7   ServiceAgreementV1Created         3                 0   \n8   ServiceAgreementV1Created         3                 0   \n9   ServiceAgreementV1Created         8                 1   \n10  ServiceAgreementV1Created        17                 3   \n11  ServiceAgreementV1Created        22                 4   \n12  ServiceAgreementV1Created         6                 3   \n13  ServiceAgreementV1Created         3                 0   \n14  ServiceAgreementV1Created        20                 7   \n15  ServiceAgreementV1Created         4                 1   \n16  ServiceAgreementV1Created        11                 4   \n17  ServiceAgreementV1Created         4                 1   \n18  ServiceAgreementV1Created         9                 2   \n\n                                      transactionHash  \\\n0   0x47b3ebcf1bec7c4d0e621cc126c9f1201904b5f2542d...   \n1   0xb7c365cde0ce86cbe908d6cc60a2625a308b8c0cba1d...   \n2   0x510e861de24374f39e54d52cf9ab1f7e9e1aa11bb771...   \n3   0xf958875aa14926468d4a8973b450678215528a33a351...   \n4   0xb24eec551ecae67315c83eacaa89c4c9241d4334dd93...   \n5   0xb1bdfdda4d901ad37bc0a1a5fa91060936ce95a5b156...   \n6   0x0d71441723033b8abef55b38b03b35d36e07220c98b9...   \n7   0x61f0f481cdb97ec93889a0ca1ca2c8a01c81c6028fc6...   \n8   0xabfb5d3ab6ec43b68838e65bee11ecc281a63676a597...   \n9   0x664e02b5d0396ba32aec8ff4ae634a7d6d4d906c074e...   \n10  0x26565bd1cb78165e07c61289f927ada58b0d4ccd0466...   \n11  0xf233bc7ed3cf32f0c9b832a78bee526803746d7046ac...   \n12  0xc1f4e2fb5eb5c6a7723fcabaa0a5acba70bff3cf86e6...   \n13  0xd7bc0f994ff1adbb6116a5dc8b9934208e639874c5d3...   \n14  0x7a3be64d1e605a75580e5f99fca2710e942116cd80d2...   \n15  0x9625db8d34b5bf47dc2081f15f2d8b18c140c61bba68...   \n16  0x5844f36ef3190de160deb3e33a4068f6e7307c549132...   \n17  0x4cbb7137cbd5a6806cc2c04b4f6b02221c5827b831b3...   \n18  0xb782a25b8daee413a57bcda8993fdc98793056ebba98...   \n\n                                       address  \\\n0   0xB20F6F3B9176D4B284bA26b80833ff5bFe6db28F   \n1   0xB20F6F3B9176D4B284bA26b80833ff5bFe6db28F   \n2   0xB20F6F3B9176D4B284bA26b80833ff5bFe6db28F   \n3   0xB20F6F3B9176D4B284bA26b80833ff5bFe6db28F   \n4   0xB20F6F3B9176D4B284bA26b80833ff5bFe6db28F   \n5   0xB20F6F3B9176D4B284bA26b80833ff5bFe6db28F   \n6   0xB20F6F3B9176D4B284bA26b80833ff5bFe6db28F   \n7   0xB20F6F3B9176D4B284bA26b80833ff5bFe6db28F   \n8   0xB20F6F3B9176D4B284bA26b80833ff5bFe6db28F   \n9   0xB20F6F3B9176D4B284bA26b80833ff5bFe6db28F   \n10  0xB20F6F3B9176D4B284bA26b80833ff5bFe6db28F   \n11  0xB20F6F3B9176D4B284bA26b80833ff5bFe6db28F   \n12  0xB20F6F3B9176D4B284bA26b80833ff5bFe6db28F   \n13  0xB20F6F3B9176D4B284bA26b80833ff5bFe6db28F   \n14  0xB20F6F3B9176D4B284bA26b80833ff5bFe6db28F   \n15  0xB20F6F3B9176D4B284bA26b80833ff5bFe6db28F   \n16  0xB20F6F3B9176D4B284bA26b80833ff5bFe6db28F   \n17  0xB20F6F3B9176D4B284bA26b80833ff5bFe6db28F   \n18  0xB20F6F3B9176D4B284bA26b80833ff5bFe6db28F   \n\n                                            blockHash  blockNumber  \n0   0x49d60a08c6cca6cf05a1215e69e2647ea719d8f98cc4...      3112355  \n1   0x64479a814e5662c0dac6b96bb2ba3cc1c40d91e4c6b3...      3112356  \n2   0x64479a814e5662c0dac6b96bb2ba3cc1c40d91e4c6b3...      3112356  \n3   0x64479a814e5662c0dac6b96bb2ba3cc1c40d91e4c6b3...      3112356  \n4   0x5eab94c2789cd4fc753a24350813b63321d7c8816dc3...      3112357  \n5   0x5eab94c2789cd4fc753a24350813b63321d7c8816dc3...      3112357  \n6   0x72300ce1164771aab5098d09a79ac20c3de1ff046502...      3112358  \n7   0x3a9964234772002fdd363f3eadbeb7ba6e84bc6bbe6a...      3112359  \n8   0x09c2fa4673e0233eb7e995602cece826ed1d59ddeba3...      3112361  \n9   0x09c2fa4673e0233eb7e995602cece826ed1d59ddeba3...      3112361  \n10  0x09c2fa4673e0233eb7e995602cece826ed1d59ddeba3...      3112361  \n11  0x09c2fa4673e0233eb7e995602cece826ed1d59ddeba3...      3112361  \n12  0xfbeea9b131e6d8e1a3e2e2674c4f6928f52eb2c55935...      3112362  \n13  0xe83abadb3182f641166d32262000012476c2756f585c...      3112363  \n14  0xe83abadb3182f641166d32262000012476c2756f585c...      3112363  \n15  0x136621075c9b78e5cc83fea021d52399ab9215adc2ff...      3112364  \n16  0x136621075c9b78e5cc83fea021d52399ab9215adc2ff...      3112364  \n17  0xfd2fdf1c6463d9dda625a0981e0ff5d9622d67ffa7fe...      3112365  \n18  0xfd2fdf1c6463d9dda625a0981e0ff5d9622d67ffa7fe...      3112365  ",
      "text/html": "<div>\n<style scoped>\n    .dataframe tbody tr th:only-of-type {\n        vertical-align: middle;\n    }\n\n    .dataframe tbody tr th {\n        vertical-align: top;\n    }\n\n    .dataframe thead th {\n        text-align: right;\n    }\n</style>\n<table border=\"1\" class=\"dataframe\">\n  <thead>\n    <tr style=\"text-align: right;\">\n      <th></th>\n      <th>assetContract</th>\n      <th>tokenId</th>\n      <th>keyword</th>\n      <th>hashFunctionId</th>\n      <th>startTime</th>\n      <th>epochsNumber</th>\n      <th>epochLength</th>\n      <th>tokenAmount</th>\n      <th>event</th>\n      <th>logIndex</th>\n      <th>transactionIndex</th>\n      <th>transactionHash</th>\n      <th>address</th>\n      <th>blockHash</th>\n      <th>blockNumber</th>\n    </tr>\n  </thead>\n  <tbody>\n    <tr>\n      <th>0</th>\n      <td>0x5cAC41237127F94c2D21dAe0b14bFeFa99880630</td>\n      <td>550298</td>\n      <td>b\"\\\\\\xacA#q'\\xf9L-!\\xda\\xe0\\xb1K\\xfe\\xfa\\x99\\x...</td>\n      <td>1</td>\n      <td>1692901818</td>\n      <td>5</td>\n      <td>7776000</td>\n      <td>571582031250000000</td>\n      <td>ServiceAgreementV1Created</td>\n      <td>13</td>\n      <td>4</td>\n      <td>0x47b3ebcf1bec7c4d0e621cc126c9f1201904b5f2542d...</td>\n      <td>0xB20F6F3B9176D4B284bA26b80833ff5bFe6db28F</td>\n      <td>0x49d60a08c6cca6cf05a1215e69e2647ea719d8f98cc4...</td>\n      <td>3112355</td>\n    </tr>\n    <tr>\n      <th>1</th>\n      <td>0x5cAC41237127F94c2D21dAe0b14bFeFa99880630</td>\n      <td>550299</td>\n      <td>b\"\\\\\\xacA#q'\\xf9L-!\\xda\\xe0\\xb1K\\xfe\\xfa\\x99\\x...</td>\n      <td>1</td>\n      <td>1692901830</td>\n      <td>5</td>\n      <td>7776000</td>\n      <td>532177734375000000</td>\n      <td>ServiceAgreementV1Created</td>\n      <td>9</td>\n      <td>3</td>\n      <td>0xb7c365cde0ce86cbe908d6cc60a2625a308b8c0cba1d...</td>\n      <td>0xB20F6F3B9176D4B284bA26b80833ff5bFe6db28F</td>\n      <td>0x64479a814e5662c0dac6b96bb2ba3cc1c40d91e4c6b3...</td>\n      <td>3112356</td>\n    </tr>\n    <tr>\n      <th>2</th>\n      <td>0x5cAC41237127F94c2D21dAe0b14bFeFa99880630</td>\n      <td>550300</td>\n      <td>b\"\\\\\\xacA#q'\\xf9L-!\\xda\\xe0\\xb1K\\xfe\\xfa\\x99\\x...</td>\n      <td>1</td>\n      <td>1692901830</td>\n      <td>5</td>\n      <td>7776000</td>\n      <td>21240234375000000</td>\n      <td>ServiceAgreementV1Created</td>\n      <td>14</td>\n      <td>4</td>\n      <td>0x510e861de24374f39e54d52cf9ab1f7e9e1aa11bb771...</td>\n      <td>0xB20F6F3B9176D4B284bA26b80833ff5bFe6db28F</td>\n      <td>0x64479a814e5662c0dac6b96bb2ba3cc1c40d91e4c6b3...</td>\n      <td>3112356</td>\n    </tr>\n    <tr>\n      <th>3</th>\n      <td>0x5cAC41237127F94c2D21dAe0b14bFeFa99880630</td>\n      <td>550301</td>\n      <td>b\"\\\\\\xacA#q'\\xf9L-!\\xda\\xe0\\xb1K\\xfe\\xfa\\x99\\x...</td>\n      <td>1</td>\n      <td>1692901830</td>\n      <td>5</td>\n      <td>7776000</td>\n      <td>408691406250000000</td>\n      <td>ServiceAgreementV1Created</td>\n      <td>19</td>\n      <td>5</td>\n      <td>0xf958875aa14926468d4a8973b450678215528a33a351...</td>\n      <td>0xB20F6F3B9176D4B284bA26b80833ff5bFe6db28F</td>\n      <td>0x64479a814e5662c0dac6b96bb2ba3cc1c40d91e4c6b3...</td>\n      <td>3112356</td>\n    </tr>\n    <tr>\n      <th>4</th>\n      <td>0x5cAC41237127F94c2D21dAe0b14bFeFa99880630</td>\n      <td>550302</td>\n      <td>b\"\\\\\\xacA#q'\\xf9L-!\\xda\\xe0\\xb1K\\xfe\\xfa\\x99\\x...</td>\n      <td>1</td>\n      <td>1692901842</td>\n      <td>5</td>\n      <td>7776000</td>\n      <td>21240234375000000</td>\n      <td>ServiceAgreementV1Created</td>\n      <td>11</td>\n      <td>9</td>\n      <td>0xb24eec551ecae67315c83eacaa89c4c9241d4334dd93...</td>\n      <td>0xB20F6F3B9176D4B284bA26b80833ff5bFe6db28F</td>\n      <td>0x5eab94c2789cd4fc753a24350813b63321d7c8816dc3...</td>\n      <td>3112357</td>\n    </tr>\n    <tr>\n      <th>5</th>\n      <td>0x5cAC41237127F94c2D21dAe0b14bFeFa99880630</td>\n      <td>550303</td>\n      <td>b\"\\\\\\xacA#q'\\xf9L-!\\xda\\xe0\\xb1K\\xfe\\xfa\\x99\\x...</td>\n      <td>1</td>\n      <td>1692901842</td>\n      <td>5</td>\n      <td>7776000</td>\n      <td>88037109375000000</td>\n      <td>ServiceAgreementV1Created</td>\n      <td>16</td>\n      <td>10</td>\n      <td>0xb1bdfdda4d901ad37bc0a1a5fa91060936ce95a5b156...</td>\n      <td>0xB20F6F3B9176D4B284bA26b80833ff5bFe6db28F</td>\n      <td>0x5eab94c2789cd4fc753a24350813b63321d7c8816dc3...</td>\n      <td>3112357</td>\n    </tr>\n    <tr>\n      <th>6</th>\n      <td>0x5cAC41237127F94c2D21dAe0b14bFeFa99880630</td>\n      <td>550304</td>\n      <td>b\"\\\\\\xacA#q'\\xf9L-!\\xda\\xe0\\xb1K\\xfe\\xfa\\x99\\x...</td>\n      <td>1</td>\n      <td>1692901854</td>\n      <td>5</td>\n      <td>7776000</td>\n      <td>496875000000000000</td>\n      <td>ServiceAgreementV1Created</td>\n      <td>20</td>\n      <td>15</td>\n      <td>0x0d71441723033b8abef55b38b03b35d36e07220c98b9...</td>\n      <td>0xB20F6F3B9176D4B284bA26b80833ff5bFe6db28F</td>\n      <td>0x72300ce1164771aab5098d09a79ac20c3de1ff046502...</td>\n      <td>3112358</td>\n    </tr>\n    <tr>\n      <th>7</th>\n      <td>0x5cAC41237127F94c2D21dAe0b14bFeFa99880630</td>\n      <td>550305</td>\n      <td>b\"\\\\\\xacA#q'\\xf9L-!\\xda\\xe0\\xb1K\\xfe\\xfa\\x99\\x...</td>\n      <td>1</td>\n      <td>1692901866</td>\n      <td>5</td>\n      <td>7776000</td>\n      <td>579638671875000000</td>\n      <td>ServiceAgreementV1Created</td>\n      <td>3</td>\n      <td>0</td>\n      <td>0x61f0f481cdb97ec93889a0ca1ca2c8a01c81c6028fc6...</td>\n      <td>0xB20F6F3B9176D4B284bA26b80833ff5bFe6db28F</td>\n      <td>0x3a9964234772002fdd363f3eadbeb7ba6e84bc6bbe6a...</td>\n      <td>3112359</td>\n    </tr>\n    <tr>\n      <th>8</th>\n      <td>0x5cAC41237127F94c2D21dAe0b14bFeFa99880630</td>\n      <td>550306</td>\n      <td>b\"\\\\\\xacA#q'\\xf9L-!\\xda\\xe0\\xb1K\\xfe\\xfa\\x99\\x...</td>\n      <td>1</td>\n      <td>1692901890</td>\n      <td>5</td>\n      <td>7776000</td>\n      <td>408691406250000000</td>\n      <td>ServiceAgreementV1Created</td>\n      <td>3</td>\n      <td>0</td>\n      <td>0xabfb5d3ab6ec43b68838e65bee11ecc281a63676a597...</td>\n      <td>0xB20F6F3B9176D4B284bA26b80833ff5bFe6db28F</td>\n      <td>0x09c2fa4673e0233eb7e995602cece826ed1d59ddeba3...</td>\n      <td>3112361</td>\n    </tr>\n    <tr>\n      <th>9</th>\n      <td>0x5cAC41237127F94c2D21dAe0b14bFeFa99880630</td>\n      <td>550307</td>\n      <td>b\"\\\\\\xacA#q'\\xf9L-!\\xda\\xe0\\xb1K\\xfe\\xfa\\x99\\x...</td>\n      <td>1</td>\n      <td>1692901890</td>\n      <td>5</td>\n      <td>7776000</td>\n      <td>569970703125000000</td>\n      <td>ServiceAgreementV1Created</td>\n      <td>8</td>\n      <td>1</td>\n      <td>0x664e02b5d0396ba32aec8ff4ae634a7d6d4d906c074e...</td>\n      <td>0xB20F6F3B9176D4B284bA26b80833ff5bFe6db28F</td>\n      <td>0x09c2fa4673e0233eb7e995602cece826ed1d59ddeba3...</td>\n      <td>3112361</td>\n    </tr>\n    <tr>\n      <th>10</th>\n      <td>0x5cAC41237127F94c2D21dAe0b14bFeFa99880630</td>\n      <td>550308</td>\n      <td>b\"\\\\\\xacA#q'\\xf9L-!\\xda\\xe0\\xb1K\\xfe\\xfa\\x99\\x...</td>\n      <td>1</td>\n      <td>1692901890</td>\n      <td>5</td>\n      <td>7776000</td>\n      <td>21240234375000000</td>\n      <td>ServiceAgreementV1Created</td>\n      <td>17</td>\n      <td>3</td>\n      <td>0x26565bd1cb78165e07c61289f927ada58b0d4ccd0466...</td>\n      <td>0xB20F6F3B9176D4B284bA26b80833ff5bFe6db28F</td>\n      <td>0x09c2fa4673e0233eb7e995602cece826ed1d59ddeba3...</td>\n      <td>3112361</td>\n    </tr>\n    <tr>\n      <th>11</th>\n      <td>0x5cAC41237127F94c2D21dAe0b14bFeFa99880630</td>\n      <td>550309</td>\n      <td>b\"\\\\\\xacA#q'\\xf9L-!\\xda\\xe0\\xb1K\\xfe\\xfa\\x99\\x...</td>\n      <td>1</td>\n      <td>1692901890</td>\n      <td>5</td>\n      <td>7776000</td>\n      <td>482373046875000000</td>\n      <td>ServiceAgreementV1Created</td>\n      <td>22</td>\n      <td>4</td>\n      <td>0xf233bc7ed3cf32f0c9b832a78bee526803746d7046ac...</td>\n      <td>0xB20F6F3B9176D4B284bA26b80833ff5bFe6db28F</td>\n      <td>0x09c2fa4673e0233eb7e995602cece826ed1d59ddeba3...</td>\n      <td>3112361</td>\n    </tr>\n    <tr>\n      <th>12</th>\n      <td>0x5cAC41237127F94c2D21dAe0b14bFeFa99880630</td>\n      <td>550310</td>\n      <td>b'\\\\\\xacA#q\\'\\xf9L-!\\xda\\xe0\\xb1K\\xfe\\xfa\\x99\\...</td>\n      <td>1</td>\n      <td>1692901902</td>\n      <td>5</td>\n      <td>7776000</td>\n      <td>21240234375000000</td>\n      <td>ServiceAgreementV1Created</td>\n      <td>6</td>\n      <td>3</td>\n      <td>0xc1f4e2fb5eb5c6a7723fcabaa0a5acba70bff3cf86e6...</td>\n      <td>0xB20F6F3B9176D4B284bA26b80833ff5bFe6db28F</td>\n      <td>0xfbeea9b131e6d8e1a3e2e2674c4f6928f52eb2c55935...</td>\n      <td>3112362</td>\n    </tr>\n    <tr>\n      <th>13</th>\n      <td>0x5cAC41237127F94c2D21dAe0b14bFeFa99880630</td>\n      <td>550311</td>\n      <td>b\"\\\\\\xacA#q'\\xf9L-!\\xda\\xe0\\xb1K\\xfe\\xfa\\x99\\x...</td>\n      <td>1</td>\n      <td>1692901914</td>\n      <td>5</td>\n      <td>7776000</td>\n      <td>21240234375000000</td>\n      <td>ServiceAgreementV1Created</td>\n      <td>3</td>\n      <td>0</td>\n      <td>0xd7bc0f994ff1adbb6116a5dc8b9934208e639874c5d3...</td>\n      <td>0xB20F6F3B9176D4B284bA26b80833ff5bFe6db28F</td>\n      <td>0xe83abadb3182f641166d32262000012476c2756f585c...</td>\n      <td>3112363</td>\n    </tr>\n    <tr>\n      <th>14</th>\n      <td>0x5cAC41237127F94c2D21dAe0b14bFeFa99880630</td>\n      <td>550312</td>\n      <td>b\"\\\\\\xacA#q'\\xf9L-!\\xda\\xe0\\xb1K\\xfe\\xfa\\x99\\x...</td>\n      <td>1</td>\n      <td>1692901914</td>\n      <td>5</td>\n      <td>7776000</td>\n      <td>21240234375000000</td>\n      <td>ServiceAgreementV1Created</td>\n      <td>20</td>\n      <td>7</td>\n      <td>0x7a3be64d1e605a75580e5f99fca2710e942116cd80d2...</td>\n      <td>0xB20F6F3B9176D4B284bA26b80833ff5bFe6db28F</td>\n      <td>0xe83abadb3182f641166d32262000012476c2756f585c...</td>\n      <td>3112363</td>\n    </tr>\n    <tr>\n      <th>15</th>\n      <td>0x5cAC41237127F94c2D21dAe0b14bFeFa99880630</td>\n      <td>550313</td>\n      <td>b\"\\\\\\xacA#q'\\xf9L-!\\xda\\xe0\\xb1K\\xfe\\xfa\\x99\\x...</td>\n      <td>1</td>\n      <td>1692901926</td>\n      <td>5</td>\n      <td>7776000</td>\n      <td>105175781250000000</td>\n      <td>ServiceAgreementV1Created</td>\n      <td>4</td>\n      <td>1</td>\n      <td>0x9625db8d34b5bf47dc2081f15f2d8b18c140c61bba68...</td>\n      <td>0xB20F6F3B9176D4B284bA26b80833ff5bFe6db28F</td>\n      <td>0x136621075c9b78e5cc83fea021d52399ab9215adc2ff...</td>\n      <td>3112364</td>\n    </tr>\n    <tr>\n      <th>16</th>\n      <td>0x5cAC41237127F94c2D21dAe0b14bFeFa99880630</td>\n      <td>550314</td>\n      <td>b\"\\\\\\xacA#q'\\xf9L-!\\xda\\xe0\\xb1K\\xfe\\xfa\\x99\\x...</td>\n      <td>1</td>\n      <td>1692901926</td>\n      <td>5</td>\n      <td>7776000</td>\n      <td>557812500000000000</td>\n      <td>ServiceAgreementV1Created</td>\n      <td>11</td>\n      <td>4</td>\n      <td>0x5844f36ef3190de160deb3e33a4068f6e7307c549132...</td>\n      <td>0xB20F6F3B9176D4B284bA26b80833ff5bFe6db28F</td>\n      <td>0x136621075c9b78e5cc83fea021d52399ab9215adc2ff...</td>\n      <td>3112364</td>\n    </tr>\n    <tr>\n      <th>17</th>\n      <td>0x5cAC41237127F94c2D21dAe0b14bFeFa99880630</td>\n      <td>550315</td>\n      <td>b\"\\\\\\xacA#q'\\xf9L-!\\xda\\xe0\\xb1K\\xfe\\xfa\\x99\\x...</td>\n      <td>1</td>\n      <td>1692901938</td>\n      <td>5</td>\n      <td>7776000</td>\n      <td>510351562500000000</td>\n      <td>ServiceAgreementV1Created</td>\n      <td>4</td>\n      <td>1</td>\n      <td>0x4cbb7137cbd5a6806cc2c04b4f6b02221c5827b831b3...</td>\n      <td>0xB20F6F3B9176D4B284bA26b80833ff5bFe6db28F</td>\n      <td>0xfd2fdf1c6463d9dda625a0981e0ff5d9622d67ffa7fe...</td>\n      <td>3112365</td>\n    </tr>\n    <tr>\n      <th>18</th>\n      <td>0x5cAC41237127F94c2D21dAe0b14bFeFa99880630</td>\n      <td>550316</td>\n      <td>b\"\\\\\\xacA#q'\\xf9L-!\\xda\\xe0\\xb1K\\xfe\\xfa\\x99\\x...</td>\n      <td>1</td>\n      <td>1692901938</td>\n      <td>5</td>\n      <td>7776000</td>\n      <td>21240234375000000</td>\n      <td>ServiceAgreementV1Created</td>\n      <td>9</td>\n      <td>2</td>\n      <td>0xb782a25b8daee413a57bcda8993fdc98793056ebba98...</td>\n      <td>0xB20F6F3B9176D4B284bA26b80833ff5bFe6db28F</td>\n      <td>0xfd2fdf1c6463d9dda625a0981e0ff5d9622d67ffa7fe...</td>\n      <td>3112365</td>\n    </tr>\n  </tbody>\n</table>\n</div>"
     },
     "execution_count": 9,
     "metadata": {},
     "output_type": "execute_result"
    }
   ],
   "source": [
    "df"
   ],
   "metadata": {
    "collapsed": false,
    "ExecuteTime": {
     "end_time": "2023-08-24T18:32:40.039210Z",
     "start_time": "2023-08-24T18:32:40.034491Z"
    }
   },
   "id": "b7e72040e064dd3"
  },
  {
   "cell_type": "code",
   "execution_count": null,
   "outputs": [],
   "source": [],
   "metadata": {
    "collapsed": false
   },
   "id": "8cb1f80e4e534213"
  }
 ],
 "metadata": {
  "kernelspec": {
   "display_name": "Python 3",
   "language": "python",
   "name": "python3"
  },
  "language_info": {
   "codemirror_mode": {
    "name": "ipython",
    "version": 2
   },
   "file_extension": ".py",
   "mimetype": "text/x-python",
   "name": "python",
   "nbconvert_exporter": "python",
   "pygments_lexer": "ipython2",
   "version": "2.7.6"
  }
 },
 "nbformat": 4,
 "nbformat_minor": 5
}
