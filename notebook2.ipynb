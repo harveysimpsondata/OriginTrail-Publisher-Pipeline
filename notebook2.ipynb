{
 "cells": [
  {
   "cell_type": "code",
   "execution_count": 24,
   "id": "initial_id",
   "metadata": {
    "collapsed": true,
    "ExecuteTime": {
     "end_time": "2023-08-25T20:10:58.587178Z",
     "start_time": "2023-08-25T20:10:55.839032Z"
    }
   },
   "outputs": [
    {
     "name": "stdout",
     "output_type": "stream",
     "text": [
      "Latest Block: 3119974\n"
     ]
    }
   ],
   "source": [
    "# Standard library\n",
    "import time\n",
    "import os\n",
    "import datetime\n",
    "from concurrent.futures import ThreadPoolExecutor\n",
    "import json\n",
    "from web3 import Web3\n",
    "\n",
    "# Third-party libraries\n",
    "import pandas as pd\n",
    "import requests\n",
    "import psycopg2\n",
    "from dotenv import load_dotenv\n",
    "\n",
    "import duckdb\n",
    "\n",
    "\n",
    "load_dotenv()\n",
    "subscan_key = os.getenv(\"subscan_key\")\n",
    "motherDuck_token = os.getenv(\"motherDuck_token\")\n",
    "onfinality_key = os.getenv(\"onfinality_key\")\n",
    "subscan_key = os.getenv(\"subscan_key\")\n",
    "MAX_WORKERS = 3  # adjust this based on your system's capabilities\n",
    "\n",
    "# with duckdb.connect(f'md:origintrail?motherduck_token={motherDuck_token}&saas_mode=true') as conn:\n",
    "#     try:\n",
    "#\n",
    "#         pass\n",
    "#         # conn.execute(upsert_statement)\n",
    "#         # print(f\"Inserted {len(postgres_data)} rows.\")\n",
    "#     except Exception as e:\n",
    "#         pass\n",
    "#         # print(f\"Error upserting data: {e}\")\n",
    "\n",
    "\n",
    "# Connect to the Ethereum node using Websockets\n",
    "w3 = Web3(Web3.HTTPProvider(f'https://origintrail.api.onfinality.io/rpc?apikey={onfinality_key}'))\n",
    "\n",
    "print(\"Latest Block:\", w3.eth.block_number)\n",
    "latest_block = w3.eth.block_number\n",
    "last_block = (w3.eth.block_number) - 1\n",
    "\n",
    "# Load ABI from json file\n",
    "with open('data/ServiceAgreementV1.json', 'r') as file:\n",
    "    serviceAgreementABI = json.load(file)\n",
    "\n",
    "# Contract address and initialization\n",
    "contract_address = '0xB20F6F3B9176D4B284bA26b80833ff5bFe6db28F'\n",
    "contract = w3.eth.contract(address=contract_address, abi=serviceAgreementABI)\n",
    "\n",
    "\n",
    "# Fetch past ServiceAgreementV1Created events\n",
    "events_list = contract.events.ServiceAgreementV1Created.get_logs(fromBlock=last_block, toBlock=latest_block)\n",
    "\n",
    "dicts_list = [dict(event) for event in events_list]\n",
    "\n",
    "# Flatten the 'args' dictionary and process HexBytes objects\n",
    "processed_data = []\n",
    "for item in dicts_list:\n",
    "    flattened = {**item['args'], **item}  # Merge dictionaries\n",
    "    flattened.pop('args')  # Remove the 'args' key\n",
    "\n",
    "    # Convert HexBytes to hexadecimal string representation\n",
    "    flattened['blockHash'] = flattened['blockHash'].hex()\n",
    "    flattened['transactionHash'] = flattened['transactionHash'].hex()\n",
    "\n",
    "    processed_data.append(flattened)\n",
    "\n",
    "# Create DataFrame\n",
    "df_assets = (pd.DataFrame(processed_data)\n",
    "      .assign(tokenAmount=lambda x: x['tokenAmount'].astype(float) / 1e18,\n",
    "              startTime=lambda x: pd.to_datetime(x['startTime'].apply(lambda y: datetime.datetime.utcfromtimestamp(y).isoformat())))\n",
    "      .drop(columns=['keyword', 'hashFunctionId', 'logIndex', 'transactionIndex'])\n",
    "      .rename(columns={\"assetContract\":\"asset_contract\", \"startTime\": \"TIME_ASSET_CREATED\", \"epochsNumber\":\"EPOCHS_NUMBER\",\"epochLength\":\"EPOCH_LENGTH\",\"tokenAmount\": \"TRAC_PRICE\", \"event\":\"EVENT\",\"tokenId\": \"ASSET_ID\", \"assetContract\":\"ASSET_CONTRACT\", \"transactionHash\":\"TRANSACTION_HASH\", \"blockHash\":\"BLOCK_HASH\", \"blockNumber\":\"BLOCK_NUMBER\", \"address\":\"EVENT_CONTRACT_ADDRESS\"}, errors=\"raise\"))\n",
    "\n",
    "\n",
    "\n",
    "# Get all transaction hashes\n",
    "hashes = df_assets['TRANSACTION_HASH'].tolist()\n",
    "\n",
    "hash_list = []\n",
    "\n",
    "# Get all transaction hashes\n",
    "for hash in hashes:\n",
    "    url = \"https://origintrail.api.subscan.io/api/scan/evm/transaction\"\n",
    "    headers = {\n",
    "        \"Content-Type\": \"application/json\",\n",
    "        \"X-API-Key\": subscan_key\n",
    "    }\n",
    "    data = {\n",
    "        \"hash\": hash\n",
    "    }\n",
    "\n",
    "    response = requests.post(url, headers=headers, json=data).json()\n",
    "\n",
    "    if response.get(\"code\") == 0:  # only proceed if the response code indicates success\n",
    "        data = response[\"data\"]\n",
    "        row = {\n",
    "            \"message\": response[\"message\"],\n",
    "            \"generated_at\": response[\"generated_at\"],\n",
    "            \"hash\": data[\"hash\"],\n",
    "            \"from\": data[\"from\"],\n",
    "            \"to\": data[\"to\"][\"address\"]\n",
    "        }\n",
    "        hash_list.append(row)\n",
    "\n",
    "df_hash = ((pd.DataFrame(hash_list)\n",
    "           .assign(generated_at=lambda x: pd.to_datetime(x['generated_at'].apply(lambda y: datetime.datetime.utcfromtimestamp(y).isoformat()))))\n",
    "           .rename(columns={\"message\":\"MESSAGE\",\"generated_at\":\"TIME_OF_TRANSACTION\",\"hash\":\"TRANSACTION_HASH\",\"from\":\"PUBLISHER_ADDRESS\", \"to\":\"SENT_ADDRESS\"}, errors=\"raise\"))\n",
    "\n",
    "df = pd.merge(df_assets, df_hash, on='TRANSACTION_HASH', how='left')\n",
    "\n",
    "df = df[['MESSAGE', 'ASSET_ID', 'BLOCK_NUMBER', 'TIME_ASSET_CREATED', 'TIME_OF_TRANSACTION', 'TRAC_PRICE', 'EPOCHS_NUMBER', 'EPOCH_LENGTH','PUBLISHER_ADDRESS', 'SENT_ADDRESS', 'TRANSACTION_HASH', 'BLOCK_HASH']]\n",
    "\n",
    "\n",
    "\n"
   ]
  },
  {
   "cell_type": "code",
   "execution_count": 25,
   "outputs": [
    {
     "data": {
      "text/plain": "                               ASSET_CONTRACT  ASSET_ID  TIME_ASSET_CREATED  \\\n0  0x5cAC41237127F94c2D21dAe0b14bFeFa99880630    560850 2023-08-25 20:10:30   \n1  0x5cAC41237127F94c2D21dAe0b14bFeFa99880630    560851 2023-08-25 20:10:30   \n\n   EPOCHS_NUMBER  EPOCH_LENGTH  TRAC_PRICE                      EVENT  \\\n0              5       7776000    0.007965  ServiceAgreementV1Created   \n1              5       7776000    0.540381  ServiceAgreementV1Created   \n\n                                    TRANSACTION_HASH  \\\n0  0x26956f3b0cff19806a208482a9117f372e1a8409f6d0...   \n1  0x0bbe9b0c507c00cf07dd497a98bdd02a95e1c7e22639...   \n\n                       EVENT_CONTRACT_ADDRESS  \\\n0  0xB20F6F3B9176D4B284bA26b80833ff5bFe6db28F   \n1  0xB20F6F3B9176D4B284bA26b80833ff5bFe6db28F   \n\n                                          BLOCK_HASH  BLOCK_NUMBER  \n0  0x26e0fa4a65173e599fc2cb11ff15f7e315961bac2b6c...       3119973  \n1  0x26e0fa4a65173e599fc2cb11ff15f7e315961bac2b6c...       3119973  ",
      "text/html": "<div>\n<style scoped>\n    .dataframe tbody tr th:only-of-type {\n        vertical-align: middle;\n    }\n\n    .dataframe tbody tr th {\n        vertical-align: top;\n    }\n\n    .dataframe thead th {\n        text-align: right;\n    }\n</style>\n<table border=\"1\" class=\"dataframe\">\n  <thead>\n    <tr style=\"text-align: right;\">\n      <th></th>\n      <th>ASSET_CONTRACT</th>\n      <th>ASSET_ID</th>\n      <th>TIME_ASSET_CREATED</th>\n      <th>EPOCHS_NUMBER</th>\n      <th>EPOCH_LENGTH</th>\n      <th>TRAC_PRICE</th>\n      <th>EVENT</th>\n      <th>TRANSACTION_HASH</th>\n      <th>EVENT_CONTRACT_ADDRESS</th>\n      <th>BLOCK_HASH</th>\n      <th>BLOCK_NUMBER</th>\n    </tr>\n  </thead>\n  <tbody>\n    <tr>\n      <th>0</th>\n      <td>0x5cAC41237127F94c2D21dAe0b14bFeFa99880630</td>\n      <td>560850</td>\n      <td>2023-08-25 20:10:30</td>\n      <td>5</td>\n      <td>7776000</td>\n      <td>0.007965</td>\n      <td>ServiceAgreementV1Created</td>\n      <td>0x26956f3b0cff19806a208482a9117f372e1a8409f6d0...</td>\n      <td>0xB20F6F3B9176D4B284bA26b80833ff5bFe6db28F</td>\n      <td>0x26e0fa4a65173e599fc2cb11ff15f7e315961bac2b6c...</td>\n      <td>3119973</td>\n    </tr>\n    <tr>\n      <th>1</th>\n      <td>0x5cAC41237127F94c2D21dAe0b14bFeFa99880630</td>\n      <td>560851</td>\n      <td>2023-08-25 20:10:30</td>\n      <td>5</td>\n      <td>7776000</td>\n      <td>0.540381</td>\n      <td>ServiceAgreementV1Created</td>\n      <td>0x0bbe9b0c507c00cf07dd497a98bdd02a95e1c7e22639...</td>\n      <td>0xB20F6F3B9176D4B284bA26b80833ff5bFe6db28F</td>\n      <td>0x26e0fa4a65173e599fc2cb11ff15f7e315961bac2b6c...</td>\n      <td>3119973</td>\n    </tr>\n  </tbody>\n</table>\n</div>"
     },
     "execution_count": 25,
     "metadata": {},
     "output_type": "execute_result"
    }
   ],
   "source": [
    "df"
   ],
   "metadata": {
    "collapsed": false,
    "ExecuteTime": {
     "end_time": "2023-08-25T20:11:00.360521Z",
     "start_time": "2023-08-25T20:11:00.355103Z"
    }
   },
   "id": "b7e72040e064dd3"
  },
  {
   "cell_type": "code",
   "execution_count": 26,
   "outputs": [
    {
     "data": {
      "text/plain": "   MESSAGE TIME_OF_TRANSACTION  \\\n0  Success 2023-08-25 20:10:57   \n1  Success 2023-08-25 20:10:58   \n\n                                    TRANSACTION_HASH  \\\n0  0x26956f3b0cff19806a208482a9117f372e1a8409f6d0...   \n1  0x0bbe9b0c507c00cf07dd497a98bdd02a95e1c7e22639...   \n\n                            PUBLISHER_ADDRESS  \\\n0  0xa0a6ff7ee2d71d04c20195b8a919fafff513a9d4   \n1  0x13891d2f0120dfd4c7bb8426b496c68353d06cda   \n\n                                 SENT_ADDRESS  \n0  0xb20016d23c77612334bd2885636980937da60b59  \n1  0xb20016d23c77612334bd2885636980937da60b59  ",
      "text/html": "<div>\n<style scoped>\n    .dataframe tbody tr th:only-of-type {\n        vertical-align: middle;\n    }\n\n    .dataframe tbody tr th {\n        vertical-align: top;\n    }\n\n    .dataframe thead th {\n        text-align: right;\n    }\n</style>\n<table border=\"1\" class=\"dataframe\">\n  <thead>\n    <tr style=\"text-align: right;\">\n      <th></th>\n      <th>MESSAGE</th>\n      <th>TIME_OF_TRANSACTION</th>\n      <th>TRANSACTION_HASH</th>\n      <th>PUBLISHER_ADDRESS</th>\n      <th>SENT_ADDRESS</th>\n    </tr>\n  </thead>\n  <tbody>\n    <tr>\n      <th>0</th>\n      <td>Success</td>\n      <td>2023-08-25 20:10:57</td>\n      <td>0x26956f3b0cff19806a208482a9117f372e1a8409f6d0...</td>\n      <td>0xa0a6ff7ee2d71d04c20195b8a919fafff513a9d4</td>\n      <td>0xb20016d23c77612334bd2885636980937da60b59</td>\n    </tr>\n    <tr>\n      <th>1</th>\n      <td>Success</td>\n      <td>2023-08-25 20:10:58</td>\n      <td>0x0bbe9b0c507c00cf07dd497a98bdd02a95e1c7e22639...</td>\n      <td>0x13891d2f0120dfd4c7bb8426b496c68353d06cda</td>\n      <td>0xb20016d23c77612334bd2885636980937da60b59</td>\n    </tr>\n  </tbody>\n</table>\n</div>"
     },
     "execution_count": 26,
     "metadata": {},
     "output_type": "execute_result"
    }
   ],
   "source": [
    "df_hash"
   ],
   "metadata": {
    "collapsed": false,
    "ExecuteTime": {
     "end_time": "2023-08-25T20:11:03.110949Z",
     "start_time": "2023-08-25T20:11:03.106705Z"
    }
   },
   "id": "8cb1f80e4e534213"
  },
  {
   "cell_type": "code",
   "execution_count": 27,
   "outputs": [
    {
     "data": {
      "text/plain": "                               ASSET_CONTRACT  ASSET_ID  TIME_ASSET_CREATED  \\\n0  0x5cAC41237127F94c2D21dAe0b14bFeFa99880630    560850 2023-08-25 20:10:30   \n1  0x5cAC41237127F94c2D21dAe0b14bFeFa99880630    560851 2023-08-25 20:10:30   \n\n   EPOCHS_NUMBER  EPOCH_LENGTH  TRAC_PRICE                      EVENT  \\\n0              5       7776000    0.007965  ServiceAgreementV1Created   \n1              5       7776000    0.540381  ServiceAgreementV1Created   \n\n                                    TRANSACTION_HASH  \\\n0  0x26956f3b0cff19806a208482a9117f372e1a8409f6d0...   \n1  0x0bbe9b0c507c00cf07dd497a98bdd02a95e1c7e22639...   \n\n                       EVENT_CONTRACT_ADDRESS  \\\n0  0xB20F6F3B9176D4B284bA26b80833ff5bFe6db28F   \n1  0xB20F6F3B9176D4B284bA26b80833ff5bFe6db28F   \n\n                                          BLOCK_HASH  BLOCK_NUMBER  MESSAGE  \\\n0  0x26e0fa4a65173e599fc2cb11ff15f7e315961bac2b6c...       3119973  Success   \n1  0x26e0fa4a65173e599fc2cb11ff15f7e315961bac2b6c...       3119973  Success   \n\n  TIME_OF_TRANSACTION                           PUBLISHER_ADDRESS  \\\n0 2023-08-25 20:10:57  0xa0a6ff7ee2d71d04c20195b8a919fafff513a9d4   \n1 2023-08-25 20:10:58  0x13891d2f0120dfd4c7bb8426b496c68353d06cda   \n\n                                 SENT_ADDRESS  \n0  0xb20016d23c77612334bd2885636980937da60b59  \n1  0xb20016d23c77612334bd2885636980937da60b59  ",
      "text/html": "<div>\n<style scoped>\n    .dataframe tbody tr th:only-of-type {\n        vertical-align: middle;\n    }\n\n    .dataframe tbody tr th {\n        vertical-align: top;\n    }\n\n    .dataframe thead th {\n        text-align: right;\n    }\n</style>\n<table border=\"1\" class=\"dataframe\">\n  <thead>\n    <tr style=\"text-align: right;\">\n      <th></th>\n      <th>ASSET_CONTRACT</th>\n      <th>ASSET_ID</th>\n      <th>TIME_ASSET_CREATED</th>\n      <th>EPOCHS_NUMBER</th>\n      <th>EPOCH_LENGTH</th>\n      <th>TRAC_PRICE</th>\n      <th>EVENT</th>\n      <th>TRANSACTION_HASH</th>\n      <th>EVENT_CONTRACT_ADDRESS</th>\n      <th>BLOCK_HASH</th>\n      <th>BLOCK_NUMBER</th>\n      <th>MESSAGE</th>\n      <th>TIME_OF_TRANSACTION</th>\n      <th>PUBLISHER_ADDRESS</th>\n      <th>SENT_ADDRESS</th>\n    </tr>\n  </thead>\n  <tbody>\n    <tr>\n      <th>0</th>\n      <td>0x5cAC41237127F94c2D21dAe0b14bFeFa99880630</td>\n      <td>560850</td>\n      <td>2023-08-25 20:10:30</td>\n      <td>5</td>\n      <td>7776000</td>\n      <td>0.007965</td>\n      <td>ServiceAgreementV1Created</td>\n      <td>0x26956f3b0cff19806a208482a9117f372e1a8409f6d0...</td>\n      <td>0xB20F6F3B9176D4B284bA26b80833ff5bFe6db28F</td>\n      <td>0x26e0fa4a65173e599fc2cb11ff15f7e315961bac2b6c...</td>\n      <td>3119973</td>\n      <td>Success</td>\n      <td>2023-08-25 20:10:57</td>\n      <td>0xa0a6ff7ee2d71d04c20195b8a919fafff513a9d4</td>\n      <td>0xb20016d23c77612334bd2885636980937da60b59</td>\n    </tr>\n    <tr>\n      <th>1</th>\n      <td>0x5cAC41237127F94c2D21dAe0b14bFeFa99880630</td>\n      <td>560851</td>\n      <td>2023-08-25 20:10:30</td>\n      <td>5</td>\n      <td>7776000</td>\n      <td>0.540381</td>\n      <td>ServiceAgreementV1Created</td>\n      <td>0x0bbe9b0c507c00cf07dd497a98bdd02a95e1c7e22639...</td>\n      <td>0xB20F6F3B9176D4B284bA26b80833ff5bFe6db28F</td>\n      <td>0x26e0fa4a65173e599fc2cb11ff15f7e315961bac2b6c...</td>\n      <td>3119973</td>\n      <td>Success</td>\n      <td>2023-08-25 20:10:58</td>\n      <td>0x13891d2f0120dfd4c7bb8426b496c68353d06cda</td>\n      <td>0xb20016d23c77612334bd2885636980937da60b59</td>\n    </tr>\n  </tbody>\n</table>\n</div>"
     },
     "execution_count": 27,
     "metadata": {},
     "output_type": "execute_result"
    }
   ],
   "source": [],
   "metadata": {
    "collapsed": false,
    "ExecuteTime": {
     "end_time": "2023-08-25T20:11:04.634131Z",
     "start_time": "2023-08-25T20:11:04.619170Z"
    }
   },
   "id": "d2be82c8b3e728c7"
  }
 ],
 "metadata": {
  "kernelspec": {
   "display_name": "Python 3",
   "language": "python",
   "name": "python3"
  },
  "language_info": {
   "codemirror_mode": {
    "name": "ipython",
    "version": 2
   },
   "file_extension": ".py",
   "mimetype": "text/x-python",
   "name": "python",
   "nbconvert_exporter": "python",
   "pygments_lexer": "ipython2",
   "version": "2.7.6"
  }
 },
 "nbformat": 4,
 "nbformat_minor": 5
}
