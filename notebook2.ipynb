{
 "cells": [
  {
   "cell_type": "code",
   "execution_count": 1,
   "id": "initial_id",
   "metadata": {
    "collapsed": true,
    "ExecuteTime": {
     "end_time": "2023-08-26T03:41:00.893653Z",
     "start_time": "2023-08-26T03:40:57.062500Z"
    }
   },
   "outputs": [
    {
     "name": "stdout",
     "output_type": "stream",
     "text": [
      "Latest Block: 3122206\n",
      "3122205 3122206\n",
      "Total execution time: 2.20 seconds\n"
     ]
    }
   ],
   "source": [
    "# Standard library imports\n",
    "import datetime\n",
    "import json\n",
    "import os\n",
    "import sys\n",
    "import time\n",
    "from concurrent.futures import ThreadPoolExecutor\n",
    "\n",
    "# Third-party imports\n",
    "from dotenv import load_dotenv\n",
    "import duckdb\n",
    "import pandas as pd\n",
    "import requests\n",
    "from web3 import Web3\n",
    "\n",
    "start_time = time.time()\n",
    "\n",
    "load_dotenv()\n",
    "subscan_key = os.getenv(\"subscan_key\")\n",
    "motherDuck_token = os.getenv(\"motherDuck_token\")\n",
    "onfinality_key = os.getenv(\"onfinality_key\")\n",
    "MAX_WORKERS = 3  # adjust this based on your system's capabilities\n",
    "\n",
    "# Connect to the Ethereum node using Websockets\n",
    "w3 = Web3(Web3.HTTPProvider(f'https://origintrail.api.onfinality.io/rpc?apikey={onfinality_key}'))\n",
    "\n",
    "print(\"Latest Block:\", w3.eth.block_number)\n",
    "latest_block = w3.eth.block_number\n",
    "last_block = (w3.eth.block_number) - 1\n",
    "\n",
    "print(last_block, latest_block)\n",
    "\n",
    "\n",
    "# Load ABI from json file\n",
    "with open('data/ServiceAgreementV1.json', 'r') as file:\n",
    "    serviceAgreementABI = json.load(file)\n",
    "\n",
    "# Contract address and initialization\n",
    "contract_address = '0xB20F6F3B9176D4B284bA26b80833ff5bFe6db28F'\n",
    "contract = w3.eth.contract(address=contract_address, abi=serviceAgreementABI)\n",
    "\n",
    "\n",
    "# Fetch past ServiceAgreementV1Created events\n",
    "events_list = contract.events.ServiceAgreementV1Created.get_logs(fromBlock=last_block, toBlock=last_block)\n",
    "\n",
    "if len(events_list) > 0:\n",
    "    processed_events = [{\n",
    "        'assetContract': item['args'].get('assetContract', ''),\n",
    "        'startTime': item['args'].get('startTime', ''),\n",
    "        'epochsNumber': item['args'].get('epochsNumber', ''),\n",
    "        'epochLength': item['args'].get('epochLength', ''),\n",
    "        'tokenAmount': item['args'].get('tokenAmount', ''),\n",
    "        'event': item.get('event', ''),\n",
    "        'tokenId': item['args'].get('tokenId', ''),\n",
    "        'transactionHash': item.get('transactionHash', '').hex() if item.get('transactionHash') else '',\n",
    "        'blockHash': item.get('blockHash', '').hex() if item.get('blockHash') else '',\n",
    "        'blockNumber': item.get('blockNumber', ''),\n",
    "        'address': item.get('address', '')\n",
    "    } for item in events_list]\n",
    "else:\n",
    "    print(\"No events found for the specified blocks.\")\n",
    "    sys.exit()  # Exit the program\n",
    "\n",
    "\n",
    "# Create DataFrame\n",
    "df_assets = (pd.DataFrame(processed_events)\n",
    "      .assign(tokenAmount=lambda x: x['tokenAmount'].astype(float) / 1e18,\n",
    "              epochLength=lambda x: x['epochLength'].astype(float) / 86400,\n",
    "              startTime=lambda x: pd.to_datetime(x['startTime'].apply(lambda y: datetime.datetime.utcfromtimestamp(y).isoformat())))\n",
    "      .rename(columns={\"assetContract\":\"asset_contract\", \"startTime\": \"TIME_ASSET_CREATED\", \"epochsNumber\":\"EPOCHS_NUMBER\",\"epochLength\":\"EPOCH_LENGTH-(DAYS)\",\"tokenAmount\": \"TRAC_PRICE\", \"event\":\"EVENT\",\"tokenId\": \"ASSET_ID\", \"assetContract\":\"ASSET_CONTRACT\", \"transactionHash\":\"TRANSACTION_HASH\", \"blockHash\":\"BLOCK_HASH\", \"blockNumber\":\"BLOCK_NUMBER\", \"address\":\"EVENT_CONTRACT_ADDRESS\"}, errors=\"raise\"))\n",
    "\n",
    "\n",
    "\n",
    "# Get all transaction hashes\n",
    "hashes = df_assets['TRANSACTION_HASH'].tolist()\n",
    "\n",
    "def fetch_transaction_data(hash):\n",
    "    subscan_url = \"https://origintrail.api.subscan.io/api/scan/evm/transaction\"\n",
    "    headers = {\n",
    "        \"Content-Type\": \"application/json\",\n",
    "        \"X-API-Key\": subscan_key\n",
    "    }\n",
    "    data = {\n",
    "        \"hash\": hash\n",
    "    }\n",
    "    response = requests.post(subscan_url, headers=headers, json=data).json()\n",
    "    if response.get(\"code\") == 0:\n",
    "        data = response[\"data\"]\n",
    "        return {\n",
    "            \"message\": response[\"message\"],\n",
    "            \"generated_at\": response[\"generated_at\"],\n",
    "            \"hash\": data[\"hash\"],\n",
    "            \"from\": data[\"from\"],\n",
    "            \"to\": data[\"to\"][\"address\"]\n",
    "        }\n",
    "\n",
    "with ThreadPoolExecutor(max_workers=MAX_WORKERS) as executor:\n",
    "    hash_list = list(executor.map(fetch_transaction_data, hashes))\n",
    "\n",
    "df_hash = ((pd.DataFrame(hash_list)\n",
    "           .assign(generated_at=lambda x: pd.to_datetime(x['generated_at'].apply(lambda y: datetime.datetime.utcfromtimestamp(y).isoformat()))))\n",
    "           .rename(columns={\"message\":\"MESSAGE\",\"generated_at\":\"TIME_OF_TRANSACTION\",\"hash\":\"TRANSACTION_HASH\",\"from\":\"PUBLISHER_ADDRESS\", \"to\":\"SENT_ADDRESS\"}, errors=\"raise\"))\n",
    "\n",
    "df = pd.merge(df_assets, df_hash, on='TRANSACTION_HASH', how='left')\n",
    "\n",
    "df = df[['MESSAGE', 'ASSET_ID', 'BLOCK_NUMBER', 'TIME_ASSET_CREATED', 'TIME_OF_TRANSACTION', 'TRAC_PRICE', 'EPOCHS_NUMBER', 'EPOCH_LENGTH-(DAYS)','PUBLISHER_ADDRESS', 'SENT_ADDRESS', 'TRANSACTION_HASH', 'BLOCK_HASH']]\n",
    "\n",
    "\n",
    "\n",
    "end_time = time.time()\n",
    "elapsed_time = end_time - start_time\n",
    "print(f\"Total execution time: {elapsed_time:.2f} seconds\")\n",
    "\n",
    "# with duckdb.connect(f'md:origintrail?motherduck_token={motherDuck_token}&saas_mode=true') as conn:\n",
    "#     try:\n",
    "#\n",
    "#         pass\n",
    "#         # conn.execute(upsert_statement)\n",
    "#         # print(f\"Inserted {len(postgres_data)} rows.\")\n",
    "#     except Exception as e:\n",
    "#         pass\n",
    "#         # print(f\"Error upserting data: {e}\")\n",
    "\n"
   ]
  },
  {
   "cell_type": "code",
   "execution_count": 2,
   "outputs": [
    {
     "data": {
      "text/plain": "   MESSAGE  ASSET_ID  BLOCK_NUMBER  TIME_ASSET_CREATED TIME_OF_TRANSACTION  \\\n0  Success    563501       3122205 2023-08-26 03:40:30 2023-08-26 03:41:00   \n\n   TRAC_PRICE  EPOCHS_NUMBER  EPOCH_LENGTH-(DAYS)  \\\n0     0.02124              5                 90.0   \n\n                            PUBLISHER_ADDRESS  \\\n0  0x19f5e80f3985c11195a1ee4ac012dadef19bbe90   \n\n                                 SENT_ADDRESS  \\\n0  0xb20016d23c77612334bd2885636980937da60b59   \n\n                                    TRANSACTION_HASH  \\\n0  0x9d599a0f8dd2a9fabb9188d9a97e8a4143bcb0e17aaa...   \n\n                                          BLOCK_HASH  \n0  0xe55a04e6876f8c9e9875a30dd6bb3ff268d65879e322...  ",
      "text/html": "<div>\n<style scoped>\n    .dataframe tbody tr th:only-of-type {\n        vertical-align: middle;\n    }\n\n    .dataframe tbody tr th {\n        vertical-align: top;\n    }\n\n    .dataframe thead th {\n        text-align: right;\n    }\n</style>\n<table border=\"1\" class=\"dataframe\">\n  <thead>\n    <tr style=\"text-align: right;\">\n      <th></th>\n      <th>MESSAGE</th>\n      <th>ASSET_ID</th>\n      <th>BLOCK_NUMBER</th>\n      <th>TIME_ASSET_CREATED</th>\n      <th>TIME_OF_TRANSACTION</th>\n      <th>TRAC_PRICE</th>\n      <th>EPOCHS_NUMBER</th>\n      <th>EPOCH_LENGTH-(DAYS)</th>\n      <th>PUBLISHER_ADDRESS</th>\n      <th>SENT_ADDRESS</th>\n      <th>TRANSACTION_HASH</th>\n      <th>BLOCK_HASH</th>\n    </tr>\n  </thead>\n  <tbody>\n    <tr>\n      <th>0</th>\n      <td>Success</td>\n      <td>563501</td>\n      <td>3122205</td>\n      <td>2023-08-26 03:40:30</td>\n      <td>2023-08-26 03:41:00</td>\n      <td>0.02124</td>\n      <td>5</td>\n      <td>90.0</td>\n      <td>0x19f5e80f3985c11195a1ee4ac012dadef19bbe90</td>\n      <td>0xb20016d23c77612334bd2885636980937da60b59</td>\n      <td>0x9d599a0f8dd2a9fabb9188d9a97e8a4143bcb0e17aaa...</td>\n      <td>0xe55a04e6876f8c9e9875a30dd6bb3ff268d65879e322...</td>\n    </tr>\n  </tbody>\n</table>\n</div>"
     },
     "execution_count": 2,
     "metadata": {},
     "output_type": "execute_result"
    }
   ],
   "source": [
    "df"
   ],
   "metadata": {
    "collapsed": false,
    "ExecuteTime": {
     "end_time": "2023-08-26T03:41:21.868960Z",
     "start_time": "2023-08-26T03:41:21.861023Z"
    }
   },
   "id": "b7e72040e064dd3"
  },
  {
   "cell_type": "code",
   "execution_count": 3,
   "outputs": [
    {
     "data": {
      "text/plain": "   MESSAGE TIME_OF_TRANSACTION  \\\n0  Success 2023-08-26 03:41:00   \n\n                                    TRANSACTION_HASH  \\\n0  0x9d599a0f8dd2a9fabb9188d9a97e8a4143bcb0e17aaa...   \n\n                            PUBLISHER_ADDRESS  \\\n0  0x19f5e80f3985c11195a1ee4ac012dadef19bbe90   \n\n                                 SENT_ADDRESS  \n0  0xb20016d23c77612334bd2885636980937da60b59  ",
      "text/html": "<div>\n<style scoped>\n    .dataframe tbody tr th:only-of-type {\n        vertical-align: middle;\n    }\n\n    .dataframe tbody tr th {\n        vertical-align: top;\n    }\n\n    .dataframe thead th {\n        text-align: right;\n    }\n</style>\n<table border=\"1\" class=\"dataframe\">\n  <thead>\n    <tr style=\"text-align: right;\">\n      <th></th>\n      <th>MESSAGE</th>\n      <th>TIME_OF_TRANSACTION</th>\n      <th>TRANSACTION_HASH</th>\n      <th>PUBLISHER_ADDRESS</th>\n      <th>SENT_ADDRESS</th>\n    </tr>\n  </thead>\n  <tbody>\n    <tr>\n      <th>0</th>\n      <td>Success</td>\n      <td>2023-08-26 03:41:00</td>\n      <td>0x9d599a0f8dd2a9fabb9188d9a97e8a4143bcb0e17aaa...</td>\n      <td>0x19f5e80f3985c11195a1ee4ac012dadef19bbe90</td>\n      <td>0xb20016d23c77612334bd2885636980937da60b59</td>\n    </tr>\n  </tbody>\n</table>\n</div>"
     },
     "execution_count": 3,
     "metadata": {},
     "output_type": "execute_result"
    }
   ],
   "source": [
    "df_hash"
   ],
   "metadata": {
    "collapsed": false,
    "ExecuteTime": {
     "end_time": "2023-08-26T03:41:26.169Z",
     "start_time": "2023-08-26T03:41:26.160799Z"
    }
   },
   "id": "8cb1f80e4e534213"
  },
  {
   "cell_type": "code",
   "execution_count": 4,
   "outputs": [
    {
     "data": {
      "text/plain": "                               ASSET_CONTRACT  TIME_ASSET_CREATED  \\\n0  0x5cAC41237127F94c2D21dAe0b14bFeFa99880630 2023-08-26 03:40:30   \n\n   EPOCHS_NUMBER  EPOCH_LENGTH-(DAYS)  TRAC_PRICE                      EVENT  \\\n0              5                 90.0     0.02124  ServiceAgreementV1Created   \n\n   ASSET_ID                                   TRANSACTION_HASH  \\\n0    563501  0x9d599a0f8dd2a9fabb9188d9a97e8a4143bcb0e17aaa...   \n\n                                          BLOCK_HASH  BLOCK_NUMBER  \\\n0  0xe55a04e6876f8c9e9875a30dd6bb3ff268d65879e322...       3122205   \n\n                       EVENT_CONTRACT_ADDRESS  \n0  0xB20F6F3B9176D4B284bA26b80833ff5bFe6db28F  ",
      "text/html": "<div>\n<style scoped>\n    .dataframe tbody tr th:only-of-type {\n        vertical-align: middle;\n    }\n\n    .dataframe tbody tr th {\n        vertical-align: top;\n    }\n\n    .dataframe thead th {\n        text-align: right;\n    }\n</style>\n<table border=\"1\" class=\"dataframe\">\n  <thead>\n    <tr style=\"text-align: right;\">\n      <th></th>\n      <th>ASSET_CONTRACT</th>\n      <th>TIME_ASSET_CREATED</th>\n      <th>EPOCHS_NUMBER</th>\n      <th>EPOCH_LENGTH-(DAYS)</th>\n      <th>TRAC_PRICE</th>\n      <th>EVENT</th>\n      <th>ASSET_ID</th>\n      <th>TRANSACTION_HASH</th>\n      <th>BLOCK_HASH</th>\n      <th>BLOCK_NUMBER</th>\n      <th>EVENT_CONTRACT_ADDRESS</th>\n    </tr>\n  </thead>\n  <tbody>\n    <tr>\n      <th>0</th>\n      <td>0x5cAC41237127F94c2D21dAe0b14bFeFa99880630</td>\n      <td>2023-08-26 03:40:30</td>\n      <td>5</td>\n      <td>90.0</td>\n      <td>0.02124</td>\n      <td>ServiceAgreementV1Created</td>\n      <td>563501</td>\n      <td>0x9d599a0f8dd2a9fabb9188d9a97e8a4143bcb0e17aaa...</td>\n      <td>0xe55a04e6876f8c9e9875a30dd6bb3ff268d65879e322...</td>\n      <td>3122205</td>\n      <td>0xB20F6F3B9176D4B284bA26b80833ff5bFe6db28F</td>\n    </tr>\n  </tbody>\n</table>\n</div>"
     },
     "execution_count": 4,
     "metadata": {},
     "output_type": "execute_result"
    }
   ],
   "source": [
    "df_assets"
   ],
   "metadata": {
    "collapsed": false,
    "ExecuteTime": {
     "end_time": "2023-08-26T03:41:28.464612Z",
     "start_time": "2023-08-26T03:41:28.458977Z"
    }
   },
   "id": "d2be82c8b3e728c7"
  },
  {
   "cell_type": "code",
   "execution_count": null,
   "outputs": [],
   "source": [],
   "metadata": {
    "collapsed": false
   },
   "id": "c3cd3b9156bae99d"
  }
 ],
 "metadata": {
  "kernelspec": {
   "display_name": "Python 3",
   "language": "python",
   "name": "python3"
  },
  "language_info": {
   "codemirror_mode": {
    "name": "ipython",
    "version": 2
   },
   "file_extension": ".py",
   "mimetype": "text/x-python",
   "name": "python",
   "nbconvert_exporter": "python",
   "pygments_lexer": "ipython2",
   "version": "2.7.6"
  }
 },
 "nbformat": 4,
 "nbformat_minor": 5
}
